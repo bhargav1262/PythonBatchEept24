{
 "cells": [
  {
   "cell_type": "markdown",
   "metadata": {},
   "source": [
    "comprehensions\n",
    "Alternative way of iterating the collections\n",
    "        - types\n",
    "            1. list comprehensions\n",
    "            2. Generator Expression\n",
    "            3. Set comprehensions\n",
    "            4. Dictionary comprehensions"
   ]
  },
  {
   "cell_type": "code",
   "execution_count": 1,
   "metadata": {},
   "outputs": [
    {
     "name": "stdout",
     "output_type": "stream",
     "text": [
      "[2, 3, 4, 5, 6, 7, 8]\n"
     ]
    }
   ],
   "source": [
    "# Traditional\n",
    "new_list = []\n",
    "for i in range(2, 9):\n",
    "    new_list.append(i)\n",
    "print(new_list)  # [2, 3, 4, 5, 6, 7, 8]"
   ]
  },
  {
   "cell_type": "code",
   "execution_count": 2,
   "metadata": {},
   "outputs": [
    {
     "data": {
      "text/plain": [
       "[2, 3, 4, 5, 6, 7, 8]"
      ]
     },
     "execution_count": 2,
     "metadata": {},
     "output_type": "execute_result"
    }
   ],
   "source": [
    "# List comprehension\n",
    "[i for i in range(2, 9)]"
   ]
  },
  {
   "cell_type": "code",
   "execution_count": 3,
   "metadata": {},
   "outputs": [
    {
     "name": "stdout",
     "output_type": "stream",
     "text": [
      "[2, 3, 4, 5, 6, 7, 8]\n"
     ]
    }
   ],
   "source": [
    "other_list = [i for i in range(2, 9)]\n",
    "print(other_list)"
   ]
  },
  {
   "cell_type": "code",
   "execution_count": 4,
   "metadata": {},
   "outputs": [
    {
     "name": "stdout",
     "output_type": "stream",
     "text": [
      "[2, 4, 6, 8]\n"
     ]
    }
   ],
   "source": [
    "# ---- comprehensions with conditions\n",
    "even_list = []\n",
    "for i in range(2, 9):\n",
    "    if i % 2 == 0:\n",
    "        even_list.append(i)\n",
    "print(even_list)"
   ]
  },
  {
   "cell_type": "code",
   "execution_count": 5,
   "metadata": {},
   "outputs": [
    {
     "name": "stdout",
     "output_type": "stream",
     "text": [
      "[2, 4, 6, 8]\n"
     ]
    }
   ],
   "source": [
    "even_list2 = [ i  for i in range(2, 9)  if i % 2 == 0]\n",
    "print(even_list2)"
   ]
  },
  {
   "cell_type": "code",
   "execution_count": 6,
   "metadata": {},
   "outputs": [
    {
     "name": "stdout",
     "output_type": "stream",
     "text": [
      "[4, 16, 36, 64]\n"
     ]
    }
   ],
   "source": [
    "# ---- comprehensions with conditions, and getting squares\n",
    "event_squares = []\n",
    "for i in range(2, 9):\n",
    "    if i % 2 == 0:\n",
    "        event_squares.append(i**2)\n",
    "print(event_squares)  # [4, 16, 36, 64]"
   ]
  },
  {
   "cell_type": "code",
   "execution_count": 7,
   "metadata": {},
   "outputs": [
    {
     "data": {
      "text/plain": [
       "[4, 16, 36, 64]"
      ]
     },
     "execution_count": 7,
     "metadata": {},
     "output_type": "execute_result"
    }
   ],
   "source": [
    "event_squares2 = [ i**2  for i in range(2, 9) if i % 2 == 0]\n",
    "\n",
    "event_squares2"
   ]
  },
  {
   "cell_type": "code",
   "execution_count": 8,
   "metadata": {},
   "outputs": [
    {
     "data": {
      "text/plain": [
       "'odd'"
      ]
     },
     "execution_count": 8,
     "metadata": {},
     "output_type": "execute_result"
    }
   ],
   "source": [
    "# Duck-typing\n",
    "# Ternary operation   \n",
    "#       condition: truecase: falsecase\n",
    "\n",
    "\n",
    "\"odd\" if True else \"even\""
   ]
  },
  {
   "cell_type": "code",
   "execution_count": 9,
   "metadata": {},
   "outputs": [
    {
     "name": "stdout",
     "output_type": "stream",
     "text": [
      "even\n"
     ]
    }
   ],
   "source": [
    "print(\"odd\" if not True else \"even\")\n"
   ]
  },
  {
   "cell_type": "code",
   "execution_count": 10,
   "metadata": {},
   "outputs": [
    {
     "name": "stdout",
     "output_type": "stream",
     "text": [
      "odd\n"
     ]
    }
   ],
   "source": [
    "print(\"odd\" if not False else \"even\")"
   ]
  },
  {
   "cell_type": "code",
   "execution_count": 11,
   "metadata": {},
   "outputs": [
    {
     "name": "stdout",
     "output_type": "stream",
     "text": [
      "not correct\n"
     ]
    }
   ],
   "source": [
    "print(\"correct\" if 23 % 2 == 0 else \"not correct\")"
   ]
  },
  {
   "cell_type": "code",
   "execution_count": 12,
   "metadata": {},
   "outputs": [
    {
     "name": "stdout",
     "output_type": "stream",
     "text": [
      "[2, 3, 4, 5, 6, 7, 8]\n",
      "[True, False, True, False, True, False, True]\n"
     ]
    }
   ],
   "source": [
    "print([i                             for i in range(2, 9)])\n",
    "print([i % 2 == 0                    for i in range(2, 9)])"
   ]
  },
  {
   "cell_type": "code",
   "execution_count": 13,
   "metadata": {},
   "outputs": [
    {
     "name": "stdout",
     "output_type": "stream",
     "text": [
      "[True, False, True, False, True, False, True]\n",
      "['even', 'odd', 'even', 'odd', 'even', 'odd', 'even']\n"
     ]
    }
   ],
   "source": [
    "print([True   if i % 2 == 0 else False for i in range(2, 9)])\n",
    "print([\"even\" if i % 2 == 0 else \"odd\" for i in range(2, 9)])"
   ]
  },
  {
   "cell_type": "code",
   "execution_count": 14,
   "metadata": {},
   "outputs": [
    {
     "ename": "NameError",
     "evalue": "name 'even_or_odd' is not defined",
     "output_type": "error",
     "traceback": [
      "\u001b[0;31m---------------------------------------------------------------------------\u001b[0m",
      "\u001b[0;31mNameError\u001b[0m                                 Traceback (most recent call last)",
      "Cell \u001b[0;32mIn[14], line 2\u001b[0m\n\u001b[1;32m      1\u001b[0m even_or_odd2 \u001b[38;5;241m=\u001b[39m [\u001b[38;5;124m\"\u001b[39m\u001b[38;5;124meven\u001b[39m\u001b[38;5;124m\"\u001b[39m \u001b[38;5;28;01mif\u001b[39;00m i \u001b[38;5;241m%\u001b[39m \u001b[38;5;241m2\u001b[39m \u001b[38;5;241m==\u001b[39m \u001b[38;5;241m0\u001b[39m \u001b[38;5;28;01melse\u001b[39;00m \u001b[38;5;124m\"\u001b[39m\u001b[38;5;124modd\u001b[39m\u001b[38;5;124m\"\u001b[39m \u001b[38;5;28;01mfor\u001b[39;00m i \u001b[38;5;129;01min\u001b[39;00m \u001b[38;5;28mrange\u001b[39m(\u001b[38;5;241m2\u001b[39m, \u001b[38;5;241m9\u001b[39m)]\n\u001b[0;32m----> 2\u001b[0m \u001b[38;5;28;01massert\u001b[39;00m \u001b[43meven_or_odd\u001b[49m \u001b[38;5;241m==\u001b[39m even_or_odd2\n",
      "\u001b[0;31mNameError\u001b[0m: name 'even_or_odd' is not defined"
     ]
    }
   ],
   "source": [
    "even_or_odd2 = [\"even\" if i % 2 == 0 else \"odd\" for i in range(2, 9)]\n",
    "assert even_or_odd == even_or_odd2"
   ]
  },
  {
   "cell_type": "code",
   "execution_count": 15,
   "metadata": {},
   "outputs": [
    {
     "ename": "NameError",
     "evalue": "name 'even_or_odd' is not defined",
     "output_type": "error",
     "traceback": [
      "\u001b[0;31m---------------------------------------------------------------------------\u001b[0m",
      "\u001b[0;31mNameError\u001b[0m                                 Traceback (most recent call last)",
      "Cell \u001b[0;32mIn[15], line 2\u001b[0m\n\u001b[1;32m      1\u001b[0m even_or_odd2 \u001b[38;5;241m=\u001b[39m [\u001b[38;5;124m\"\u001b[39m\u001b[38;5;124meven\u001b[39m\u001b[38;5;124m\"\u001b[39m \u001b[38;5;28;01mif\u001b[39;00m i \u001b[38;5;241m%\u001b[39m \u001b[38;5;241m2\u001b[39m \u001b[38;5;241m==\u001b[39m \u001b[38;5;241m0\u001b[39m \u001b[38;5;28;01melse\u001b[39;00m \u001b[38;5;124m\"\u001b[39m\u001b[38;5;124modd\u001b[39m\u001b[38;5;124m\"\u001b[39m \u001b[38;5;28;01mfor\u001b[39;00m i \u001b[38;5;129;01min\u001b[39;00m \u001b[38;5;28mrange\u001b[39m(\u001b[38;5;241m2\u001b[39m, \u001b[38;5;241m9\u001b[39m)]\n\u001b[0;32m----> 2\u001b[0m \u001b[38;5;28;01massert\u001b[39;00m \u001b[43meven_or_odd\u001b[49m \u001b[38;5;241m==\u001b[39m even_or_odd2\n\u001b[1;32m      3\u001b[0m pairs \u001b[38;5;241m=\u001b[39m []\n\u001b[1;32m      4\u001b[0m \u001b[38;5;28;01mfor\u001b[39;00m ch1 \u001b[38;5;129;01min\u001b[39;00m \u001b[38;5;124m\"\u001b[39m\u001b[38;5;124mPython\u001b[39m\u001b[38;5;124m\"\u001b[39m:\n",
      "\u001b[0;31mNameError\u001b[0m: name 'even_or_odd' is not defined"
     ]
    }
   ],
   "source": [
    "even_or_odd2 = [\"even\" if i % 2 == 0 else \"odd\" for i in range(2, 9)]\n",
    "assert even_or_odd == even_or_odd2\n",
    "pairs = []\n",
    "for ch1 in \"Python\":\n",
    "    for num in \"1234\":\n",
    "        pairs.append((ch1, num))\n",
    "\n",
    "print(pairs)"
   ]
  },
  {
   "cell_type": "code",
   "execution_count": 16,
   "metadata": {},
   "outputs": [
    {
     "name": "stdout",
     "output_type": "stream",
     "text": [
      "[('P', '1'), ('P', '2'), ('P', '3'), ('P', '4'), ('y', '1'), ('y', '2'), ('y', '3'), ('y', '4'), ('t', '1'), ('t', '2'), ('t', '3'), ('t', '4'), ('h', '1'), ('h', '2'), ('h', '3'), ('h', '4'), ('o', '1'), ('o', '2'), ('o', '3'), ('o', '4'), ('n', '1'), ('n', '2'), ('n', '3'), ('n', '4')]\n"
     ]
    }
   ],
   "source": [
    "pairs = []\n",
    "for ch1 in \"Python\":\n",
    "    for num in \"1234\":\n",
    "        pairs.append((ch1, num))\n",
    "\n",
    "print(pairs)"
   ]
  },
  {
   "cell_type": "code",
   "execution_count": 17,
   "metadata": {},
   "outputs": [
    {
     "name": "stdout",
     "output_type": "stream",
     "text": [
      "[('P', '1'), ('P', '2'), ('P', '3'), ('P', '4'), ('y', '1'), ('y', '2'), ('y', '3'), ('y', '4'), ('t', '1'), ('t', '2'), ('t', '3'), ('t', '4'), ('h', '1'), ('h', '2'), ('h', '3'), ('h', '4'), ('o', '1'), ('o', '2'), ('o', '3'), ('o', '4'), ('n', '1'), ('n', '2'), ('n', '3'), ('n', '4')]\n"
     ]
    }
   ],
   "source": [
    "pairs2 = [(ch1, num) for ch1 in \"Python\" for num in \"1234\"]\n",
    "print(pairs2)"
   ]
  },
  {
   "cell_type": "code",
   "execution_count": 18,
   "metadata": {},
   "outputs": [
    {
     "name": "stdout",
     "output_type": "stream",
     "text": [
      "{('h', '2'), ('h', '1'), ('o', '3'), ('t', '4'), ('y', '4'), ('n', '3'), ('P', '2'), ('P', '1'), ('h', '3'), ('o', '4'), ('n', '4'), ('t', '2'), ('y', '2'), ('t', '1'), ('y', '1'), ('h', '4'), ('P', '3'), ('n', '2'), ('o', '2'), ('o', '1'), ('n', '1'), ('t', '3'), ('y', '3'), ('P', '4')}\n",
      "{('h', '2'), ('h', '1'), ('o', '3'), ('t', '4'), ('y', '4'), ('n', '3'), ('P', '2'), ('P', '1'), ('h', '3'), ('o', '4'), ('n', '4'), ('t', '2'), ('y', '2'), ('t', '1'), ('y', '1'), ('h', '4'), ('P', '3'), ('n', '2'), ('o', '2'), ('o', '1'), ('n', '1'), ('t', '3'), ('y', '3'), ('P', '4')}\n"
     ]
    }
   ],
   "source": [
    "pairs = set()\n",
    "for ch1 in \"Python\":\n",
    "    for num in \"1234\":\n",
    "        pairs.add((ch1, num))\n",
    "\n",
    "print(pairs)\n",
    "\n",
    "pairs2 = {(ch1, num) for ch1 in \"Python\" for num in \"1234\"}\n",
    "print(pairs2)"
   ]
  },
  {
   "cell_type": "code",
   "execution_count": 19,
   "metadata": {},
   "outputs": [
    {
     "name": "stdout",
     "output_type": "stream",
     "text": [
      "{('h', '3'), ('n', '3'), ('o', '3'), ('P', '3'), ('t', '3'), ('y', '3')}\n",
      "{('h', '3'), ('n', '3'), ('o', '3'), ('P', '3'), ('t', '3'), ('y', '3')}\n"
     ]
    }
   ],
   "source": [
    "pairs = set()\n",
    "for ch1 in \"Python\":\n",
    "    for num in \"1234\":\n",
    "        if num == \"3\":\n",
    "            pairs.add((ch1, num))\n",
    "\n",
    "print(pairs)\n",
    "\n",
    "pairs2 = {(ch1, num) for ch1 in \"Python\" for num in \"1234\" if num == \"3\"}\n",
    "print(pairs2)"
   ]
  },
  {
   "cell_type": "code",
   "execution_count": 20,
   "metadata": {},
   "outputs": [
    {
     "name": "stdout",
     "output_type": "stream",
     "text": [
      "<class 'list'> ['M', 'a', 'n', 'g', 'a', 'l', 'y', 'a', 'n']\n",
      "<class 'generator'> <generator object <genexpr> at 0x743b4825e2c0>\n",
      "<class 'set'> {'l', 'n', 'a', 'g', 'M', 'y'}\n",
      "<class 'dict'> {'M': 77, 'a': 97, 'n': 110, 'g': 103, 'l': 108, 'y': 121}\n"
     ]
    }
   ],
   "source": [
    "my_variable = [ch for ch in \"Mangalyan\"]\n",
    "print(type(my_variable), my_variable)\n",
    "\n",
    "my_variable = (ch for ch in \"Mangalyan\")\n",
    "print(type(my_variable), my_variable)\n",
    "\n",
    "my_variable = {ch for ch in \"Mangalyan\"}\n",
    "print(type(my_variable), my_variable)\n",
    "\n",
    "my_variable = {ch: ord(ch) for ch in \"Mangalyan\"}\n",
    "print(type(my_variable), my_variable)"
   ]
  },
  {
   "cell_type": "code",
   "execution_count": null,
   "metadata": {},
   "outputs": [],
   "source": []
  }
 ],
 "metadata": {
  "kernelspec": {
   "display_name": "Python 3",
   "language": "python",
   "name": "python3"
  },
  "language_info": {
   "codemirror_mode": {
    "name": "ipython",
    "version": 3
   },
   "file_extension": ".py",
   "mimetype": "text/x-python",
   "name": "python",
   "nbconvert_exporter": "python",
   "pygments_lexer": "ipython3",
   "version": "3.12.1"
  }
 },
 "nbformat": 4,
 "nbformat_minor": 2
}
