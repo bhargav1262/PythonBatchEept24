{
 "cells": [
  {
   "cell_type": "markdown",
   "metadata": {},
   "source": [
    "COPy Problem\n",
    "assignment vs Shallow copy vs deep copy\n",
    "Detailed Explanation: https://www.youtube.com/watch?v=yjYIyydmrc0"
   ]
  },
  {
   "cell_type": "code",
   "execution_count": 1,
   "metadata": {},
   "outputs": [
    {
     "name": "stdout",
     "output_type": "stream",
     "text": [
      "num1           123 <class 'int'> 100364592973544\n",
      "num2           123 <class 'int'> 100364592973544\n"
     ]
    }
   ],
   "source": [
    "# immutable object\n",
    "num1 = 123\n",
    "print(\"num1          \", num1, type(num1), id(num1))\n",
    "num2 = num1\n",
    "print(\"num2          \", num2, type(num2), id(num2))"
   ]
  },
  {
   "cell_type": "code",
   "execution_count": 2,
   "metadata": {},
   "outputs": [
    {
     "name": "stdout",
     "output_type": "stream",
     "text": [
      "num1           123 <class 'int'> 100364592973544\n",
      "num2           999 <class 'int'> 140719170301808\n"
     ]
    }
   ],
   "source": [
    "num2 = 999\n",
    "print(\"num1          \", num1, type(num1), id(num1))\n",
    "print(\"num2          \", num2, type(num2), id(num2))"
   ]
  },
  {
   "cell_type": "code",
   "execution_count": 3,
   "metadata": {},
   "outputs": [
    {
     "name": "stdout",
     "output_type": "stream",
     "text": [
      "140719169160384 par_list       = [11, 111, 1111]\n",
      "140719169160384 hard_copy_list = [11, 111, 1111]\n"
     ]
    }
   ],
   "source": [
    "# Mutable objects - list, set, dict\n",
    "# Mutable object\n",
    "par_list = [11, 111, 1111]\n",
    "#            0   1     2\n",
    "print(f\"{id(par_list)} {par_list       = }\")\n",
    "\n",
    "hard_copy_list = par_list                              # new object is not created; Both will refer to the same object\n",
    "print(f\"{id(hard_copy_list)} {hard_copy_list = }\")"
   ]
  },
  {
   "cell_type": "code",
   "execution_count": 4,
   "metadata": {},
   "outputs": [
    {
     "name": "stdout",
     "output_type": "stream",
     "text": [
      "par_list[2]    1111\n",
      "par_list[2]    3333\n"
     ]
    }
   ],
   "source": [
    "print(\"par_list[2]   \", par_list[2])\n",
    "\n",
    "par_list[2] = 3333                          # Substitution\n",
    "print(\"par_list[2]   \", par_list[2])"
   ]
  },
  {
   "cell_type": "code",
   "execution_count": 5,
   "metadata": {},
   "outputs": [
    {
     "name": "stdout",
     "output_type": "stream",
     "text": [
      "140719169160384 par_list       = [11, 111, 3333]\n",
      "140719169160384 hard_copy_list = [11, 111, 3333]\n"
     ]
    }
   ],
   "source": [
    "print(f\"{id(par_list)} {par_list       = }\")\n",
    "# leakage problem\n",
    "print(f\"{id(hard_copy_list)} {hard_copy_list = }\")"
   ]
  },
  {
   "cell_type": "code",
   "execution_count": 6,
   "metadata": {},
   "outputs": [
    {
     "name": "stdout",
     "output_type": "stream",
     "text": [
      "140719169284224 soft_copy_list = [11, 111, 3333]\n",
      "hard_copy_list[2] 3333\n",
      "\n",
      "140719169160384 par_list       = [11, 111, 'FOUR']\n",
      "140719169160384 hard_copy_list = [11, 111, 'FOUR']\n",
      "140719169284224 soft_copy_list = [11, 111, 3333]\n"
     ]
    }
   ],
   "source": [
    "import copy\n",
    "\n",
    "# shallow copy\n",
    "soft_copy_list = copy.copy(par_list)\n",
    "print(f\"{id(soft_copy_list)} {soft_copy_list = }\")\n",
    "\n",
    "print(\"hard_copy_list[2]\", hard_copy_list[2])\n",
    "\n",
    "hard_copy_list[2] = \"FOUR\"\n",
    "\n",
    "print()\n",
    "print(f\"{id(par_list)} {par_list       = }\")\n",
    "print(f\"{id(hard_copy_list)} {hard_copy_list = }\")\n",
    "print(f\"{id(soft_copy_list)} {soft_copy_list = }\")"
   ]
  },
  {
   "cell_type": "code",
   "execution_count": 7,
   "metadata": {},
   "outputs": [
    {
     "name": "stdout",
     "output_type": "stream",
     "text": [
      "soft_copy_list[0] 11\n",
      "\n",
      "140719169160384 par_list       = [11, 111, 'FOUR']\n",
      "140719169160384 hard_copy_list = [11, 111, 'FOUR']\n",
      "140719169284224 soft_copy_list = ['ZERO', 111, 3333]\n"
     ]
    }
   ],
   "source": [
    "print(\"soft_copy_list[0]\", soft_copy_list[0])\n",
    "\n",
    "soft_copy_list[0] = \"ZERO\"\n",
    "print()\n",
    "print(f\"{id(par_list)} {par_list       = }\")\n",
    "print(f\"{id(hard_copy_list)} {hard_copy_list = }\")\n",
    "print(f\"{id(soft_copy_list)} {soft_copy_list = }\")"
   ]
  },
  {
   "cell_type": "code",
   "execution_count": 8,
   "metadata": {},
   "outputs": [
    {
     "name": "stdout",
     "output_type": "stream",
     "text": [
      "140719169285312 new_list           = [90, 89, [78, 89, [4, 441, 6]]]\n",
      "140719169074880 new_softcopy_list  = [90, 89, [78, 89, [4, 441, 6]]]\n",
      "140719169285632 new_deepcopy_list  = [90, 89, [78, 89, [4, 441, 6]]]\n"
     ]
    }
   ],
   "source": [
    "new_list = [90, 89, [78, 89, [4, 441, 6]]]\n",
    "new_softcopy_list = copy.copy(new_list)                    # soft copy or shallow copy\n",
    "new_deepcopy_list = copy.deepcopy(new_list)\n",
    "\n",
    "print(f\"{id(new_list)} {new_list           = }\")\n",
    "print(f\"{id(new_softcopy_list)} {new_softcopy_list  = }\")\n",
    "print(f\"{id(new_deepcopy_list)} {new_deepcopy_list  = }\")"
   ]
  },
  {
   "cell_type": "code",
   "execution_count": 9,
   "metadata": {},
   "outputs": [
    {
     "name": "stdout",
     "output_type": "stream",
     "text": [
      "new_list[2][2][1] 441\n"
     ]
    }
   ],
   "source": [
    "print(\"new_list[2][2][1]\", new_list[2][2][1])"
   ]
  },
  {
   "cell_type": "code",
   "execution_count": 10,
   "metadata": {},
   "outputs": [
    {
     "name": "stdout",
     "output_type": "stream",
     "text": [
      "\n",
      "140719169285312 new_list           = [90, 89, [78, 89, [4, 'FFO', 6]]]\n",
      "140719169074880 new_softcopy_list  = [90, 89, [78, 89, [4, 'FFO', 6]]]\n",
      "140719169285632 new_deepcopy_list  = [90, 89, [78, 89, [4, 441, 6]]]\n"
     ]
    }
   ],
   "source": [
    "new_list[2][2][1] = \"FFO\"\n",
    "print()\n",
    "print(f\"{id(new_list)} {new_list           = }\")\n",
    "print(f\"{id(new_softcopy_list)} {new_softcopy_list  = }\")\n",
    "print(f\"{id(new_deepcopy_list)} {new_deepcopy_list  = }\")"
   ]
  },
  {
   "cell_type": "code",
   "execution_count": 11,
   "metadata": {},
   "outputs": [
    {
     "data": {
      "text/plain": [
       "(140719242515648, 140719169165440)"
      ]
     },
     "execution_count": 11,
     "metadata": {},
     "output_type": "execute_result"
    }
   ],
   "source": [
    "# NOTE:\n",
    "# 1. soft(shallow) copy is fast, but cant work more than one dimension\n",
    "# 2. deep copy is slow, but can work with objects of any number of dimensions\n",
    "## Another example\n",
    "l1 = [12, 34]\n",
    "l2 = l1[::]  # soft(shallow) copy\n",
    "id(l1), id(l2)"
   ]
  },
  {
   "cell_type": "code",
   "execution_count": 12,
   "metadata": {},
   "outputs": [
    {
     "data": {
      "text/plain": [
       "(140719169230272, 140719169284480)"
      ]
     },
     "execution_count": 12,
     "metadata": {},
     "output_type": "execute_result"
    }
   ],
   "source": [
    "l3 = [12, 34, [44, [55]]]\n",
    "\n",
    "l4 = l3[::]\n",
    "id(l3), id(l4)"
   ]
  },
  {
   "cell_type": "code",
   "execution_count": 13,
   "metadata": {},
   "outputs": [
    {
     "data": {
      "text/plain": [
       "[12, 34, [44, ['five']]]"
      ]
     },
     "execution_count": 13,
     "metadata": {},
     "output_type": "execute_result"
    }
   ],
   "source": [
    "l3[2][1][0] = 'five'\n",
    "l3\n"
   ]
  },
  {
   "cell_type": "code",
   "execution_count": 14,
   "metadata": {},
   "outputs": [
    {
     "data": {
      "text/plain": [
       "[12, 34, [44, ['five']]]"
      ]
     },
     "execution_count": 14,
     "metadata": {},
     "output_type": "execute_result"
    }
   ],
   "source": [
    "l4"
   ]
  },
  {
   "cell_type": "code",
   "execution_count": 15,
   "metadata": {},
   "outputs": [
    {
     "data": {
      "text/plain": [
       "'\\n            Assignment\\n            ----------\\n            1) implement the stack mechanism - LIFO\\n            Take the values in run time\\n            1. push   - add an element\\n            2. pop    - delete last element\\n            3. status - stack size\\n\\n            -       -\\n            |       |\\n            |       |\\n            ---------\\n            HINT: list.pop(), list.append(), len()\\n\\n            2) implement the queue mechanism - FIFO\\n            Take the values in run time\\n            1. push   - add an element\\n            2. pop    - delete last element\\n            3. status - queue size\\n                --------\\n            ->         ->\\n                --------\\n            HINT: list.insert(), list.pop(), len()\\n\\n'"
      ]
     },
     "execution_count": 15,
     "metadata": {},
     "output_type": "execute_result"
    }
   ],
   "source": [
    "\n",
    "\"\"\"\n",
    "            Assignment\n",
    "            ----------\n",
    "            1) implement the stack mechanism - LIFO\n",
    "            Take the values in run time\n",
    "            1. push   - add an element\n",
    "            2. pop    - delete last element\n",
    "            3. status - stack size\n",
    "\n",
    "            -       -\n",
    "            |       |\n",
    "            |       |\n",
    "            ---------\n",
    "            HINT: list.pop(), list.append(), len()\n",
    "\n",
    "            2) implement the queue mechanism - FIFO\n",
    "            Take the values in run time\n",
    "            1. push   - add an element\n",
    "            2. pop    - delete last element\n",
    "            3. status - queue size\n",
    "                --------\n",
    "            ->         ->\n",
    "                --------\n",
    "            HINT: list.insert(), list.pop(), len()\n",
    "\n",
    "\"\"\""
   ]
  },
  {
   "cell_type": "code",
   "execution_count": null,
   "metadata": {},
   "outputs": [],
   "source": []
  }
 ],
 "metadata": {
  "kernelspec": {
   "display_name": "Python 3",
   "language": "python",
   "name": "python3"
  },
  "language_info": {
   "codemirror_mode": {
    "name": "ipython",
    "version": 3
   },
   "file_extension": ".py",
   "mimetype": "text/x-python",
   "name": "python",
   "nbconvert_exporter": "python",
   "pygments_lexer": "ipython3",
   "version": "3.12.1"
  }
 },
 "nbformat": 4,
 "nbformat_minor": 2
}
