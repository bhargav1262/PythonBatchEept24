{
 "cells": [
  {
   "cell_type": "markdown",
   "metadata": {},
   "source": [
    "### String formatting\n",
    "    types: old style   or literal formatting\n",
    "           new style\n",
    "           f-strings  --->supports from pythgon 3.6+"
   ]
  },
  {
   "cell_type": "markdown",
   "metadata": {},
   "source": [
    "# OLD STYLE FORMATTING\n",
    "\n",
    "%d - integer\n",
    "%i - integer\n",
    "\n",
    "%c - single char\n",
    "%s - string/char\n",
    "\n",
    "%f - floating point\n",
    "%F - floating point\n",
    "\n",
    "%o - octal\n",
    "%x - hexadecimal lower case\n",
    "%X - hexadecimal lower case"
   ]
  },
  {
   "cell_type": "code",
   "execution_count": 1,
   "metadata": {},
   "outputs": [
    {
     "name": "stdout",
     "output_type": "stream",
     "text": [
      "\n",
      "My lucky number is %d\n",
      "My lucky number is 12\n",
      "My lucky number is 12\n",
      "My lucky number is 12\n"
     ]
    }
   ],
   "source": [
    "print(\"\" % ())\n",
    "print(\"My lucky number is %d\")\n",
    "print(\"My lucky number is %d\" % (12)) \n",
    "print(\"My lucky number is %d\" % 12) \n",
    "print(\"My lucky number is %d\" % 12.34) #int(12.34)"
   ]
  },
  {
   "cell_type": "code",
   "execution_count": 2,
   "metadata": {},
   "outputs": [
    {
     "name": "stdout",
     "output_type": "stream",
     "text": [
      "My lucky number is 12\n",
      "My lucky number is 12.340000\n",
      "My lucky number is 12.000000\n",
      "My lucky number is 0.000000\n"
     ]
    }
   ],
   "source": [
    "print(\"My lucky number is %s\" % \"12\")\n",
    "print(\"My lucky number is %f\" % 12.34) \n",
    "print(\"My lucky number is %f\" % 12) \n",
    "print(\"My lucky number is %f\" % False)"
   ]
  },
  {
   "cell_type": "markdown",
   "metadata": {},
   "source": []
  },
  {
   "cell_type": "code",
   "execution_count": 3,
   "metadata": {},
   "outputs": [
    {
     "name": "stdout",
     "output_type": "stream",
     "text": [
      "My lucky number is 12.34\n",
      "My lucky number is True\n",
      "My lucky number is None\n",
      "My lucky number is python\n"
     ]
    }
   ],
   "source": [
    "print(\"My lucky number is %s\" % 12.34) \n",
    "print(\"My lucky number is %s\" % True) \n",
    "print(\"My lucky number is %s\" % None) \n",
    "print(\"My lucky number is %s\" % \"python\") "
   ]
  },
  {
   "cell_type": "code",
   "execution_count": 1,
   "metadata": {},
   "outputs": [
    {
     "name": "stdout",
     "output_type": "stream",
     "text": [
      "12.340000\n",
      "12.341111\n",
      "\n",
      "12.34\n",
      "12.3411\n"
     ]
    }
   ],
   "source": [
    "print(\"%f\" % 12.34)\n",
    "print(\"%f\" % 12.341111111111)\n",
    "\n",
    "print()\n",
    "print(\"%g\" % 12.34)\n",
    "print(\"%G\" % 12.341111111111)"
   ]
  },
  {
   "cell_type": "code",
   "execution_count": 2,
   "metadata": {},
   "outputs": [
    {
     "name": "stdout",
     "output_type": "stream",
     "text": [
      "\n",
      "1.234000e+01\n",
      "1.234111E+01\n"
     ]
    }
   ],
   "source": [
    "print()\n",
    "print(\"%e\" % 12.34)\n",
    "print(\"%E\" % 12.341111111111)"
   ]
  },
  {
   "cell_type": "code",
   "execution_count": null,
   "metadata": {},
   "outputs": [],
   "source": []
  }
 ],
 "metadata": {
  "kernelspec": {
   "display_name": "Python 3",
   "language": "python",
   "name": "python3"
  },
  "language_info": {
   "codemirror_mode": {
    "name": "ipython",
    "version": 3
   },
   "file_extension": ".py",
   "mimetype": "text/x-python",
   "name": "python",
   "nbconvert_exporter": "python",
   "pygments_lexer": "ipython3",
   "version": "3.12.1"
  }
 },
 "nbformat": 4,
 "nbformat_minor": 2
}
