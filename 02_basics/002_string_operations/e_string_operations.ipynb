{
 "cells": [
  {
   "cell_type": "code",
   "execution_count": 1,
   "metadata": {},
   "outputs": [
    {
     "name": "stdout",
     "output_type": "stream",
     "text": [
      "language : python programming\n"
     ]
    }
   ],
   "source": [
    "# p y t h o n p r o g r  a  m  m  i  n  g\n",
    "\n",
    "# 0 1 2 3 4 5 6 7 8 9 10 11 12 13 14 15 16.....> forward indexing\n",
    "#                           -5 -4 -3 -2 -1 ----> reverse indexing\n",
    "\n",
    "language = 'python programming'\n",
    "print(\"language :\" ,language)"
   ]
  },
  {
   "cell_type": "code",
   "execution_count": 2,
   "metadata": {},
   "outputs": [
    {
     "name": "stdout",
     "output_type": "stream",
     "text": [
      "language [7:18] :  programming\n",
      "language [7:18:1] :  programming\n"
     ]
    }
   ],
   "source": [
    "print (\"language [7:18] : \", language [7:18])\n",
    "print (\"language [7:18:1] : \", language [7:18:1])"
   ]
  },
  {
   "cell_type": "code",
   "execution_count": 3,
   "metadata": {},
   "outputs": [
    {
     "name": "stdout",
     "output_type": "stream",
     "text": [
      "language [7:18] :  programming\n",
      "language [7:18:1] :  programming\n"
     ]
    }
   ],
   "source": [
    "print (\"language [7:18] : \", language [7:18])\n",
    "print (\"language [7:18:1] : \", language [7:18:1])"
   ]
  },
  {
   "cell_type": "code",
   "execution_count": 4,
   "metadata": {},
   "outputs": [
    {
     "name": "stdout",
     "output_type": "stream",
     "text": [
      "language [7:18] :  programming\n",
      "language [7:18:1] :  programming\n"
     ]
    }
   ],
   "source": [
    "print (\"language [7:18] : \", language [7:18])\n",
    "print (\"language [7:18:1] : \", language [7:18:1])\n",
    "#[7:18:1]  ---> 7,8,9,10,11,12,13,14,15,16,17"
   ]
  },
  {
   "cell_type": "code",
   "execution_count": 5,
   "metadata": {},
   "outputs": [
    {
     "name": "stdout",
     "output_type": "stream",
     "text": [
      "\n",
      "language [7:18:3] :  pgmn\n"
     ]
    }
   ],
   "source": [
    "print()\n",
    "print (\"language [7:18:3] : \", language [7:18:3])"
   ]
  },
  {
   "cell_type": "code",
   "execution_count": null,
   "metadata": {},
   "outputs": [],
   "source": [
    "print()\n",
    "print (\"language [7:18:3] : \", language [7:18:3])\n",
    "# [7:18:3]--->  7, 10, 13, 16"
   ]
  },
  {
   "cell_type": "code",
   "execution_count": 6,
   "metadata": {},
   "outputs": [
    {
     "name": "stdout",
     "output_type": "stream",
     "text": [
      "language [7:18:-1] :  \n"
     ]
    }
   ],
   "source": [
    "print (\"language [7:18:-1] : \", language [7:18:-1])"
   ]
  },
  {
   "cell_type": "code",
   "execution_count": 7,
   "metadata": {},
   "outputs": [
    {
     "name": "stdout",
     "output_type": "stream",
     "text": [
      "language [7:18:-1] :  \n"
     ]
    }
   ],
   "source": [
    "print (\"language [7:18:-1] : \", language [7:18:-1])\n"
   ]
  },
  {
   "cell_type": "code",
   "execution_count": 8,
   "metadata": {},
   "outputs": [
    {
     "name": "stdout",
     "output_type": "stream",
     "text": [
      "language [17:7:-1] :  gnimmargor\n"
     ]
    }
   ],
   "source": [
    "print (\"language [17:7:-1] : \", language [17:7:-1])"
   ]
  },
  {
   "cell_type": "code",
   "execution_count": 9,
   "metadata": {},
   "outputs": [
    {
     "name": "stdout",
     "output_type": "stream",
     "text": [
      "language [18:6:-1] :  gnimmargorp\n",
      "language [18:7:-1] :  gnimmargor\n"
     ]
    }
   ],
   "source": [
    "print (\"language [18:6:-1] : \", language [18:6:-1])\n",
    "print (\"language [18:7:-1] : \", language [18:7:-1])"
   ]
  },
  {
   "cell_type": "code",
   "execution_count": 10,
   "metadata": {},
   "outputs": [
    {
     "name": "stdout",
     "output_type": "stream",
     "text": [
      "language [23:7:-3] :  gmrr\n"
     ]
    }
   ],
   "source": [
    "print (\"language [23:7:-3] : \", language [23:7:-3])"
   ]
  },
  {
   "cell_type": "code",
   "execution_count": 11,
   "metadata": {},
   "outputs": [
    {
     "name": "stdout",
     "output_type": "stream",
     "text": [
      "language [0:7:1] :  python \n"
     ]
    }
   ],
   "source": [
    "print (\"language [0:7:1] : \", language [0:7:1])"
   ]
  },
  {
   "cell_type": "code",
   "execution_count": 12,
   "metadata": {},
   "outputs": [
    {
     "name": "stdout",
     "output_type": "stream",
     "text": [
      "language [0:7] :  python \n"
     ]
    }
   ],
   "source": [
    "print (\"language [0:7] : \", language [0:7])"
   ]
  },
  {
   "cell_type": "code",
   "execution_count": 13,
   "metadata": {},
   "outputs": [
    {
     "name": "stdout",
     "output_type": "stream",
     "text": [
      "language [:7] :  python \n"
     ]
    }
   ],
   "source": [
    "print (\"language [:7] : \", language [:7])"
   ]
  },
  {
   "cell_type": "code",
   "execution_count": 14,
   "metadata": {},
   "outputs": [
    {
     "name": "stdout",
     "output_type": "stream",
     "text": [
      "language [:] :  python programming\n",
      "language [::] :  python programming\n"
     ]
    }
   ],
   "source": [
    "print (\"language [:] : \", language [:])\n",
    "print (\"language [::] : \", language [::])"
   ]
  },
  {
   "cell_type": "code",
   "execution_count": 15,
   "metadata": {},
   "outputs": [
    {
     "name": "stdout",
     "output_type": "stream",
     "text": [
      "language  :  python programming\n"
     ]
    }
   ],
   "source": [
    "print (\"language  : \", language )"
   ]
  },
  {
   "cell_type": "code",
   "execution_count": 16,
   "metadata": {},
   "outputs": [
    {
     "name": "stdout",
     "output_type": "stream",
     "text": [
      "language [::1] :  python programming\n",
      "language [::3] :  ph oai\n"
     ]
    }
   ],
   "source": [
    "print (\"language [::1] : \", language [::1])\n",
    "print (\"language [::3] : \", language [::3])"
   ]
  },
  {
   "cell_type": "markdown",
   "metadata": {},
   "source": [
    "# if step is -ve  start n final index are not given\n",
    "# start index = length of string -1\n",
    "# final index = 1"
   ]
  },
  {
   "cell_type": "code",
   "execution_count": 17,
   "metadata": {},
   "outputs": [
    {
     "name": "stdout",
     "output_type": "stream",
     "text": [
      "language [::-1] :  gnimmargorp nohtyp\n"
     ]
    }
   ],
   "source": [
    "print (\"language [::-1] : \", language [::-1])"
   ]
  },
  {
   "cell_type": "code",
   "execution_count": 18,
   "metadata": {},
   "outputs": [
    {
     "name": "stdout",
     "output_type": "stream",
     "text": [
      "language [::-3] :  gmrrnt\n",
      "language [::-5] :  gapt\n"
     ]
    }
   ],
   "source": [
    "print (\"language [::-3] : \", language [::-3])\n",
    "print (\"language [::-5] : \", language [::-5])"
   ]
  },
  {
   "cell_type": "code",
   "execution_count": null,
   "metadata": {},
   "outputs": [],
   "source": []
  }
 ],
 "metadata": {
  "kernelspec": {
   "display_name": "Python 3",
   "language": "python",
   "name": "python3"
  },
  "language_info": {
   "codemirror_mode": {
    "name": "ipython",
    "version": 3
   },
   "file_extension": ".py",
   "mimetype": "text/x-python",
   "name": "python",
   "nbconvert_exporter": "python",
   "pygments_lexer": "ipython3",
   "version": "3.12.1"
  }
 },
 "nbformat": 4,
 "nbformat_minor": 2
}
