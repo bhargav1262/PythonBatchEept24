{
 "cells": [
  {
   "cell_type": "markdown",
   "metadata": {},
   "source": [
    "# string attributes"
   ]
  },
  {
   "cell_type": "code",
   "execution_count": 1,
   "metadata": {},
   "outputs": [
    {
     "name": "stdout",
     "output_type": "stream",
     "text": [
      "python programming <class 'str'>\n"
     ]
    }
   ],
   "source": [
    "language = 'python programming'\n",
    "print(language, type(language))"
   ]
  },
  {
   "cell_type": "code",
   "execution_count": 2,
   "metadata": {},
   "outputs": [
    {
     "name": "stdout",
     "output_type": "stream",
     "text": [
      "len(language) = 18\n",
      "id(language) = 132298078944304\n"
     ]
    }
   ],
   "source": [
    "print(\"len(language) =\", len(language))\n",
    "print(\"id(language) =\", id(language))"
   ]
  },
  {
   "cell_type": "code",
   "execution_count": 3,
   "metadata": {},
   "outputs": [
    {
     "name": "stdout",
     "output_type": "stream",
     "text": [
      "string attributes\n",
      "dir(language) = ['__add__', '__class__', '__contains__', '__delattr__', '__dir__', '__doc__', '__eq__', '__format__', '__ge__', '__getattribute__', '__getitem__', '__getnewargs__', '__getstate__', '__gt__', '__hash__', '__init__', '__init_subclass__', '__iter__', '__le__', '__len__', '__lt__', '__mod__', '__mul__', '__ne__', '__new__', '__reduce__', '__reduce_ex__', '__repr__', '__rmod__', '__rmul__', '__setattr__', '__sizeof__', '__str__', '__subclasshook__', 'capitalize', 'casefold', 'center', 'count', 'encode', 'endswith', 'expandtabs', 'find', 'format', 'format_map', 'index', 'isalnum', 'isalpha', 'isascii', 'isdecimal', 'isdigit', 'isidentifier', 'islower', 'isnumeric', 'isprintable', 'isspace', 'istitle', 'isupper', 'join', 'ljust', 'lower', 'lstrip', 'maketrans', 'partition', 'removeprefix', 'removesuffix', 'replace', 'rfind', 'rindex', 'rjust', 'rpartition', 'rsplit', 'rstrip', 'split', 'splitlines', 'startswith', 'strip', 'swapcase', 'title', 'translate', 'upper', 'zfill']\n"
     ]
    }
   ],
   "source": [
    "print(\"string attributes\")\n",
    "print(\"dir(language) =\", dir(language))"
   ]
  },
  {
   "cell_type": "code",
   "execution_count": 4,
   "metadata": {},
   "outputs": [
    {
     "ename": "NameError",
     "evalue": "name 'mstr' is not defined",
     "output_type": "error",
     "traceback": [
      "\u001b[0;31m---------------------------------------------------------------------------\u001b[0m",
      "\u001b[0;31mNameError\u001b[0m                                 Traceback (most recent call last)",
      "Cell \u001b[0;32mIn[4], line 6\u001b[0m\n\u001b[1;32m      3\u001b[0m str2 \u001b[38;5;241m=\u001b[39m \u001b[38;5;124m'\u001b[39m\u001b[38;5;124mMahal\u001b[39m\u001b[38;5;124m'\u001b[39m\n\u001b[1;32m      5\u001b[0m mystr \u001b[38;5;241m=\u001b[39m str1 \u001b[38;5;241m+\u001b[39m str2\n\u001b[0;32m----> 6\u001b[0m \u001b[38;5;28mprint\u001b[39m(\u001b[43mmstr\u001b[49m)\n",
      "\u001b[0;31mNameError\u001b[0m: name 'mstr' is not defined"
     ]
    }
   ],
   "source": [
    "#string concatantion\n",
    "str1 = 'TAJ'\n",
    "str2 = 'Mahal'\n",
    "\n",
    "mystr = str1 + str2\n",
    "print(mstr)"
   ]
  },
  {
   "cell_type": "code",
   "execution_count": 6,
   "metadata": {},
   "outputs": [
    {
     "name": "stdout",
     "output_type": "stream",
     "text": [
      "result : TAJMahal\n"
     ]
    }
   ],
   "source": [
    "#string concatantion\n",
    "mystr1 = 'TAJ'\n",
    "mystr2 = 'Mahal'\n",
    "\n",
    "result = mystr1 + mystr2\n",
    "print(\"result :\",result)"
   ]
  },
  {
   "cell_type": "code",
   "execution_count": 7,
   "metadata": {},
   "outputs": [
    {
     "name": "stdout",
     "output_type": "stream",
     "text": [
      "result : TAJMahal\n"
     ]
    }
   ],
   "source": [
    "result = mystr1.__add__(mystr2)\n",
    "print(\"result :\",result)"
   ]
  },
  {
   "cell_type": "code",
   "execution_count": 10,
   "metadata": {},
   "outputs": [
    {
     "name": "stdout",
     "output_type": "stream",
     "text": [
      "len(language))   : 18\n",
      "language.__len__(): 18\n"
     ]
    }
   ],
   "source": [
    "# string length\n",
    "print(\"len(language))   :\", len(language))\n",
    "print(\"language.__len__():\", language.__len__())"
   ]
  },
  {
   "cell_type": "code",
   "execution_count": 11,
   "metadata": {},
   "outputs": [
    {
     "data": {
      "text/plain": [
       "'555'"
      ]
     },
     "execution_count": 11,
     "metadata": {},
     "output_type": "execute_result"
    }
   ],
   "source": [
    "'5' * 3\n"
   ]
  },
  {
   "cell_type": "code",
   "execution_count": 13,
   "metadata": {},
   "outputs": [
    {
     "name": "stdout",
     "output_type": "stream",
     "text": [
      "result: TAJMahalTAJMahalTAJMahalTAJMahalTAJMahal\n",
      "result: TAJMahalTAJMahalTAJMahalTAJMahalTAJMahal\n"
     ]
    }
   ],
   "source": [
    "result = mystr*5\n",
    "print(\"result:\", result)\n",
    "result = mystr.__mul__(5)\n",
    "print(\"result:\", result)"
   ]
  },
  {
   "cell_type": "code",
   "execution_count": 14,
   "metadata": {},
   "outputs": [
    {
     "name": "stdout",
     "output_type": "stream",
     "text": [
      "language   : python programming\n",
      "language.capitalize()   : Python programming\n",
      "language.title()   : Python Programming\n",
      "language.upper()   : PYTHON PROGRAMMING\n",
      "language.lower()   : python programming\n",
      "language.swapcase()   : PYTHON PROGRAMMING\n"
     ]
    }
   ],
   "source": [
    "print(\"language   :\", language)\n",
    "print(\"language.capitalize()   :\", language.capitalize())\n",
    "print(\"language.title()   :\", language.title())\n",
    "print(\"language.upper()   :\", language.upper())\n",
    "print(\"language.lower()   :\", language.lower())\n",
    "print(\"language.swapcase()   :\", language.swapcase())"
   ]
  },
  {
   "cell_type": "code",
   "execution_count": 15,
   "metadata": {},
   "outputs": [
    {
     "name": "stdout",
     "output_type": "stream",
     "text": [
      "language   : python programming\n",
      "language.istitle()   : False\n",
      "ABC123#.isupper() True\n",
      "Abc123#.isupper() False\n"
     ]
    }
   ],
   "source": [
    "print(\"language   :\", language)\n",
    "print(\"language.istitle()   :\", language.istitle())\n",
    "print(\"ABC123#.isupper()\", \"ABC123#\".isupper())\n",
    "print(\"Abc123#.isupper()\", \"Abc123#\".isupper())"
   ]
  },
  {
   "cell_type": "code",
   "execution_count": 18,
   "metadata": {},
   "outputs": [
    {
     "name": "stdout",
     "output_type": "stream",
     "text": [
      "\"123\".isnumeric()\"  False\n",
      "123.isnumeric()\"  True\n",
      "\"1 23#.isnumeric()\"  False\n",
      "\"1322ee\".isnumeric()\"  False\n"
     ]
    }
   ],
   "source": [
    "print('\"123\".isnumeric()\" ', \"ABC123#\".isnumeric())\n",
    "print('123.isnumeric()\" ', \"123\".isnumeric())\n",
    "print('\"1 23#.isnumeric()\" ', \"1 23#\".isnumeric())\n",
    "print('\"1322ee\".isnumeric()\" ', \"1322ee\".isnumeric())"
   ]
  },
  {
   "cell_type": "code",
   "execution_count": 20,
   "metadata": {},
   "outputs": [
    {
     "name": "stdout",
     "output_type": "stream",
     "text": [
      "\"language\".isalpha()   :\"  True\n",
      "\"abc123\".isalpha()   :\"  False\n"
     ]
    }
   ],
   "source": [
    "print('\"language\".isalpha()   :\" ', \"language\".isalpha())\n",
    "print('\"abc123\".isalpha()   :\" ', \"abc123\".isalpha())"
   ]
  },
  {
   "cell_type": "code",
   "execution_count": 21,
   "metadata": {},
   "outputs": [
    {
     "name": "stdout",
     "output_type": "stream",
     "text": [
      "\"abc123\".isalnum()   :\"  True\n"
     ]
    }
   ],
   "source": [
    "print('\"abc123\".isalnum()   :\" ', \"abc123\".isalnum())"
   ]
  },
  {
   "cell_type": "code",
   "execution_count": 22,
   "metadata": {},
   "outputs": [],
   "source": [
    "# p y t h o n p r o g r  a  m  m  i  n  g\n",
    "\n",
    "# 0 1 2 3 4 5 6 7 8 9 10 11 12 13 14 15 16.....> forward indexing\n"
   ]
  },
  {
   "cell_type": "code",
   "execution_count": 25,
   "metadata": {},
   "outputs": [
    {
     "name": "stdout",
     "output_type": "stream",
     "text": [
      "language\".find(\"t\")   :  2\n"
     ]
    }
   ],
   "source": [
    "print('language\".find(\"t\")   : ', language.find(\"t\"))"
   ]
  },
  {
   "cell_type": "code",
   "execution_count": 36,
   "metadata": {},
   "outputs": [
    {
     "name": "stdout",
     "output_type": "stream",
     "text": [
      "language\".find(\"n\")   :  5\n",
      "language\".find(\"prog\")   :  7\n",
      "language\".find(\"porg\")   :  -1\n"
     ]
    }
   ],
   "source": [
    "print('language\".find(\"n\")   : ', language.find(\"n\"))  #right to left\n",
    "print('language\".find(\"prog\")   : ', language.find(\"prog\"))\n",
    "print('language\".find(\"porg\")   : ', language.find(\"porg\"))"
   ]
  },
  {
   "cell_type": "code",
   "execution_count": 27,
   "metadata": {},
   "outputs": [
    {
     "name": "stdout",
     "output_type": "stream",
     "text": [
      "language\".rfind(\"n\")   :  16\n"
     ]
    }
   ],
   "source": [
    "print('language\".rfind(\"n\")   : ', language.rfind(\"n\"))  #left to right"
   ]
  },
  {
   "cell_type": "code",
   "execution_count": 31,
   "metadata": {},
   "outputs": [
    {
     "name": "stdout",
     "output_type": "stream",
     "text": [
      "language\".index(\"n\")   :  5\n",
      "language\".rindex(\"n\")   :  16\n",
      "language\".rindex(\"prog\")   :  7\n"
     ]
    }
   ],
   "source": [
    "print('language\".index(\"n\")   : ', language.index(\"n\"))\n",
    "print('language\".rindex(\"n\")   : ', language.rindex(\"n\"))\n",
    "print('language\".rindex(\"prog\")   : ', language.rindex(\"prog\"))\n"
   ]
  },
  {
   "cell_type": "code",
   "execution_count": null,
   "metadata": {},
   "outputs": [],
   "source": []
  }
 ],
 "metadata": {
  "kernelspec": {
   "display_name": "Python 3",
   "language": "python",
   "name": "python3"
  },
  "language_info": {
   "codemirror_mode": {
    "name": "ipython",
    "version": 3
   },
   "file_extension": ".py",
   "mimetype": "text/x-python",
   "name": "python",
   "nbconvert_exporter": "python",
   "pygments_lexer": "ipython3",
   "version": "3.12.1"
  }
 },
 "nbformat": 4,
 "nbformat_minor": 2
}
