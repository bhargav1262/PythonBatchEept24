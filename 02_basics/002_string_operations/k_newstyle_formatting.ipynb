{
 "cells": [
  {
   "cell_type": "markdown",
   "metadata": {},
   "source": [
    "## New style formatting"
   ]
  },
  {
   "cell_type": "code",
   "execution_count": 1,
   "metadata": {},
   "outputs": [
    {
     "name": "stdout",
     "output_type": "stream",
     "text": [
      "\n",
      "\n"
     ]
    }
   ],
   "source": [
    "print(\"\" % ())   #old style\n",
    "print(\"{}\".format(\"\"))  # new style"
   ]
  },
  {
   "cell_type": "code",
   "execution_count": 2,
   "metadata": {},
   "outputs": [
    {
     "name": "stdout",
     "output_type": "stream",
     "text": [
      "cat and mouse\n",
      "123 and mouse\n",
      "123.0 and mouse\n",
      "None and True\n"
     ]
    }
   ],
   "source": [
    "print(\"{} and {}\".format(\"cat\", \"mouse\"))\n",
    "print(\"{} and {}\".format(123, \"mouse\"))\n",
    "print(\"{} and {}\".format(123.0, \"mouse\"))\n",
    "print(\"{} and {}\".format(None, True))"
   ]
  },
  {
   "cell_type": "code",
   "execution_count": 3,
   "metadata": {},
   "outputs": [
    {
     "name": "stdout",
     "output_type": "stream",
     "text": [
      "None and True\n",
      "None and True\n",
      "True and None\n"
     ]
    }
   ],
   "source": [
    "print(\"{} and {}\".format(None , True))\n",
    "print(\"{0} and {1}\".format(None , True))\n",
    "print(\"{1} and {0}\".format(None , True))"
   ]
  },
  {
   "cell_type": "code",
   "execution_count": 5,
   "metadata": {},
   "outputs": [
    {
     "name": "stdout",
     "output_type": "stream",
     "text": [
      "None and None\n"
     ]
    }
   ],
   "source": [
    "print(\"{0} and {0}\".format(None))"
   ]
  },
  {
   "cell_type": "code",
   "execution_count": 7,
   "metadata": {},
   "outputs": [
    {
     "name": "stdout",
     "output_type": "stream",
     "text": [
      "True and True\n"
     ]
    }
   ],
   "source": [
    "print(\"{1} and {1}\".format(None, True))"
   ]
  },
  {
   "cell_type": "code",
   "execution_count": 10,
   "metadata": {},
   "outputs": [
    {
     "name": "stdout",
     "output_type": "stream",
     "text": [
      "12345678.88\n",
      "12345678.88\n",
      "12,345,678.88\n",
      "12_345_678.88\n",
      "+12345678.88\n",
      "-12345678.88\n",
      "12345678.88\n"
     ]
    }
   ],
   "source": [
    "print(\"{}\".format(12345678.88))\n",
    "print(\"{:}\".format(12345678.88))\n",
    "print(\"{:,}\".format(12345678.88))\n",
    "print(\"{:_}\".format(12345678.88))\n",
    "print(\"{:+}\".format(12345678.88))\n",
    "print(\"{:+}\".format(-12345678.88))\n",
    "print(\"{:-}\".format(12345678.88))"
   ]
  },
  {
   "cell_type": "code",
   "execution_count": 11,
   "metadata": {},
   "outputs": [
    {
     "name": "stdout",
     "output_type": "stream",
     "text": [
      "     12345\n",
      "0000012345\n",
      "aaaaa12345\n"
     ]
    }
   ],
   "source": [
    "print(\"{:=10}\".format(12345))\n",
    "print(\"{:0=10}\".format(12345))    #similar to star.zfill\n",
    "print(\"{:a=10}\".format(12345))"
   ]
  },
  {
   "cell_type": "code",
   "execution_count": 15,
   "metadata": {},
   "outputs": [
    {
     "name": "stdout",
     "output_type": "stream",
     "text": [
      "left aligned        \n",
      "       right aligned\n",
      "      centered      \n",
      "______centered______\n",
      "******centered******\n"
     ]
    }
   ],
   "source": [
    "\n",
    "#Alignment\n",
    "print(\"{:<20}\".format(\"left aligned\"))\n",
    "print(\"{:>20}\".format(\"right aligned\"))\n",
    "print(\"{:^20}\".format(\"centered\"))\n",
    "print(\"{:_^20}\".format(\"centered\"))\n",
    "print(\"{:*^20}\".format(\"centered\"))"
   ]
  },
  {
   "cell_type": "code",
   "execution_count": 16,
   "metadata": {},
   "outputs": [],
   "source": [
    "import math\n"
   ]
  },
  {
   "cell_type": "code",
   "execution_count": 17,
   "metadata": {},
   "outputs": [
    {
     "data": {
      "text/plain": [
       "3.141592653589793"
      ]
     },
     "execution_count": 17,
     "metadata": {},
     "output_type": "execute_result"
    }
   ],
   "source": [
    "math.pi"
   ]
  },
  {
   "cell_type": "code",
   "execution_count": 18,
   "metadata": {},
   "outputs": [
    {
     "name": "stdout",
     "output_type": "stream",
     "text": [
      "Name:udhay Age:99 Salary:9999.9999\n",
      "\n",
      "    Name:Bhargav\n",
      "    Age:99\n",
      "    Salary:9999.999\n"
     ]
    }
   ],
   "source": [
    "print(\"Name:{} Age:{} Salary:{}\".format(\"udhay\",99, 9999.9999))\n",
    "print(\n",
    "    \"\"\"\n",
    "    Name:{}\n",
    "    Age:{}\n",
    "    Salary:{}\"\"\".format(\n",
    "    \"Bhargav\",99,9999.999 \n",
    "    )\n",
    "\n",
    ")"
   ]
  },
  {
   "cell_type": "code",
   "execution_count": 20,
   "metadata": {},
   "outputs": [
    {
     "name": "stdout",
     "output_type": "stream",
     "text": [
      "\n",
      "    Name:Bhargav\n",
      "    Age:99\n",
      "    Salary:9999.999\n"
     ]
    }
   ],
   "source": [
    "print(\n",
    "    \"\"\"\n",
    "    Name:{0}\n",
    "    Age:{1}\n",
    "    Salary:{2}\"\"\".format(\n",
    "    \"Bhargav\",99,9999.999 \n",
    "    )\n",
    ")"
   ]
  },
  {
   "cell_type": "code",
   "execution_count": 35,
   "metadata": {},
   "outputs": [
    {
     "name": "stdout",
     "output_type": "stream",
     "text": [
      "\n",
      "        Dear Vijay Malya,\n",
      "            Your account ending with 1134 was deducted 20.5 crores, on 12th June 1947 12:34:45.\n",
      "            \n",
      "        Thank you for shopping. Visit again!!!\n",
      "        \n"
     ]
    }
   ],
   "source": [
    "# Method 1\n",
    "print(\n",
    "    \"\"\"\n",
    "        Dear {customer},\n",
    "            Your account ending with {account_last_4_digits} was deducted {transaction_amount}, on {transaction_time}.\n",
    "            \n",
    "        Thank you for shopping. Visit again!!!\n",
    "        \"\"\".format(\n",
    "        customer= \"Vijay Malya\", \n",
    "        account_last_4_digits=1134,\n",
    "        transaction_amount=\"20.5 crores\",\n",
    "        transaction_time=\"12th June 1947 12:34:45\",\n",
    "    )\n",
    "\n",
    ")\n",
    "\n",
    "\n",
    "\n",
    "\n"
   ]
  },
  {
   "cell_type": "code",
   "execution_count": 34,
   "metadata": {},
   "outputs": [
    {
     "name": "stdout",
     "output_type": "stream",
     "text": [
      "\n",
      "        Dear Vijay Malya,\n",
      "            Your account ending with 1134 was deducted 20.5 crores, on 12th June 1947 12:34:45.\n",
      "            \n",
      "        Thank you for shopping. Visit again!!!\n",
      "        \n"
     ]
    }
   ],
   "source": [
    "#method 2\n",
    "result = {\n",
    "    \"customer\": \"Vijay Malya\", \n",
    "    \"account_last_4_digits\": 1134,\n",
    "    \"transaction_amount\": \"20.5 crores\",\n",
    "    \"transaction_time\": \"12th June 1947 12:34:45\",\n",
    "    \n",
    "}\n",
    "\n",
    "print(\n",
    "    \"\"\"\n",
    "        Dear {customer},\n",
    "            Your account ending with {account_last_4_digits} was deducted {transaction_amount}, on {transaction_time}.\n",
    "            \n",
    "        Thank you for shopping. Visit again!!!\n",
    "        \"\"\".format(\n",
    "        **result\n",
    "        )\n",
    ")\n",
    "\n"
   ]
  },
  {
   "cell_type": "code",
   "execution_count": null,
   "metadata": {},
   "outputs": [],
   "source": []
  }
 ],
 "metadata": {
  "kernelspec": {
   "display_name": "Python 3",
   "language": "python",
   "name": "python3"
  },
  "language_info": {
   "codemirror_mode": {
    "name": "ipython",
    "version": 3
   },
   "file_extension": ".py",
   "mimetype": "text/x-python",
   "name": "python",
   "nbconvert_exporter": "python",
   "pygments_lexer": "ipython3",
   "version": "3.12.1"
  }
 },
 "nbformat": 4,
 "nbformat_minor": 2
}
