{
 "cells": [
  {
   "cell_type": "markdown",
   "metadata": {},
   "source": [
    "###Advantage of Functional Programming\n",
    "    - Code reusability\n",
    "    - To modularize the problem\n",
    "    - Better maintenance of the code\n",
    "        - Pure functions are easier to reason about\n",
    "        - Testing is easier, and pure functions lend themselves well to techniques like property-based testing\n",
    "        - Debugging is easier"
   ]
  },
  {
   "cell_type": "code",
   "execution_count": 2,
   "metadata": {},
   "outputs": [],
   "source": [
    "# Function Definition\n",
    "def hello():\n",
    "    print(\"Hello world\")\n",
    "    # return None - default"
   ]
  },
  {
   "cell_type": "code",
   "execution_count": 3,
   "metadata": {},
   "outputs": [
    {
     "name": "stdout",
     "output_type": "stream",
     "text": [
      "<function hello at 0x70e83eb39d00>\n"
     ]
    }
   ],
   "source": [
    "print(hello)"
   ]
  },
  {
   "cell_type": "code",
   "execution_count": 4,
   "metadata": {},
   "outputs": [
    {
     "data": {
      "text/plain": [
       "function"
      ]
     },
     "execution_count": 4,
     "metadata": {},
     "output_type": "execute_result"
    }
   ],
   "source": [
    "type(hello)"
   ]
  },
  {
   "cell_type": "markdown",
   "metadata": {},
   "source": [
    "## NOTE: Function are treated as first-class objects in Python."
   ]
  },
  {
   "cell_type": "code",
   "execution_count": 5,
   "metadata": {},
   "outputs": [
    {
     "name": "stdout",
     "output_type": "stream",
     "text": [
      "['__annotations__', '__builtins__', '__call__', '__class__', '__closure__', '__code__', '__defaults__', '__delattr__', '__dict__', '__dir__', '__doc__', '__eq__', '__format__', '__ge__', '__get__', '__getattribute__', '__getstate__', '__globals__', '__gt__', '__hash__', '__init__', '__init_subclass__', '__kwdefaults__', '__le__', '__lt__', '__module__', '__name__', '__ne__', '__new__', '__qualname__', '__reduce__', '__reduce_ex__', '__repr__', '__setattr__', '__sizeof__', '__str__', '__subclasshook__', '__type_params__']\n"
     ]
    }
   ],
   "source": [
    "print(dir(hello))"
   ]
  },
  {
   "cell_type": "code",
   "execution_count": 6,
   "metadata": {},
   "outputs": [
    {
     "data": {
      "text/plain": [
       "'<function hello at 0x70e83eb39d00>'"
      ]
     },
     "execution_count": 6,
     "metadata": {},
     "output_type": "execute_result"
    }
   ],
   "source": [
    "hello.__str__()"
   ]
  },
  {
   "cell_type": "code",
   "execution_count": 7,
   "metadata": {},
   "outputs": [
    {
     "data": {
      "text/plain": [
       "'<function hello at 0x70e83eb39d00>'"
      ]
     },
     "execution_count": 7,
     "metadata": {},
     "output_type": "execute_result"
    }
   ],
   "source": [
    "str(hello)"
   ]
  },
  {
   "cell_type": "code",
   "execution_count": 8,
   "metadata": {},
   "outputs": [
    {
     "data": {
      "text/plain": [
       "'<function hello at 0x70e83eb39d00>'"
      ]
     },
     "execution_count": 8,
     "metadata": {},
     "output_type": "execute_result"
    }
   ],
   "source": [
    "hello.__repr__()"
   ]
  },
  {
   "cell_type": "code",
   "execution_count": 9,
   "metadata": {},
   "outputs": [
    {
     "data": {
      "text/plain": [
       "'<function hello at 0x70e83eb39d00>'"
      ]
     },
     "execution_count": 9,
     "metadata": {},
     "output_type": "execute_result"
    }
   ],
   "source": [
    "repr(hello)"
   ]
  },
  {
   "cell_type": "code",
   "execution_count": 10,
   "metadata": {},
   "outputs": [
    {
     "data": {
      "text/plain": [
       "'hello'"
      ]
     },
     "execution_count": 10,
     "metadata": {},
     "output_type": "execute_result"
    }
   ],
   "source": [
    "hello.__qualname__  # introduced in Python 3.3"
   ]
  },
  {
   "cell_type": "code",
   "execution_count": 11,
   "metadata": {},
   "outputs": [
    {
     "data": {
      "text/plain": [
       "144"
      ]
     },
     "execution_count": 11,
     "metadata": {},
     "output_type": "execute_result"
    }
   ],
   "source": [
    "hello.__sizeof__()"
   ]
  },
  {
   "cell_type": "code",
   "execution_count": 12,
   "metadata": {},
   "outputs": [
    {
     "data": {
      "text/plain": [
       "7758924167632"
      ]
     },
     "execution_count": 12,
     "metadata": {},
     "output_type": "execute_result"
    }
   ],
   "source": [
    "hello.__hash__()"
   ]
  },
  {
   "cell_type": "code",
   "execution_count": 13,
   "metadata": {},
   "outputs": [
    {
     "data": {
      "text/plain": [
       "True"
      ]
     },
     "execution_count": 13,
     "metadata": {},
     "output_type": "execute_result"
    }
   ],
   "source": [
    "callable(hello)"
   ]
  },
  {
   "cell_type": "code",
   "execution_count": 14,
   "metadata": {},
   "outputs": [
    {
     "data": {
      "text/plain": [
       "False"
      ]
     },
     "execution_count": 14,
     "metadata": {},
     "output_type": "execute_result"
    }
   ],
   "source": [
    "num1 = 213123\n",
    "\n",
    "callable(num1)"
   ]
  },
  {
   "cell_type": "code",
   "execution_count": 15,
   "metadata": {},
   "outputs": [
    {
     "name": "stdout",
     "output_type": "stream",
     "text": [
      "Hello world\n"
     ]
    }
   ],
   "source": [
    "hello.__call__()"
   ]
  },
  {
   "cell_type": "code",
   "execution_count": 16,
   "metadata": {},
   "outputs": [
    {
     "ename": "TypeError",
     "evalue": "person_details() missing 2 required positional arguments: 'name' and 'age'",
     "output_type": "error",
     "traceback": [
      "\u001b[0;31m---------------------------------------------------------------------------\u001b[0m",
      "\u001b[0;31mTypeError\u001b[0m                                 Traceback (most recent call last)",
      "Cell \u001b[0;32mIn[16], line 3\u001b[0m\n\u001b[1;32m      1\u001b[0m \u001b[38;5;28;01mdef\u001b[39;00m \u001b[38;5;21mperson_details\u001b[39m(name, age):\n\u001b[1;32m      2\u001b[0m     \u001b[38;5;28;01mreturn\u001b[39;00m \u001b[38;5;124mf\u001b[39m\u001b[38;5;124m\"\u001b[39m\u001b[38;5;132;01m{\u001b[39;00mname\u001b[38;5;132;01m}\u001b[39;00m\u001b[38;5;124m is \u001b[39m\u001b[38;5;132;01m{\u001b[39;00mage\u001b[38;5;132;01m}\u001b[39;00m\u001b[38;5;124m years old\u001b[39m\u001b[38;5;124m\"\u001b[39m\n\u001b[0;32m----> 3\u001b[0m \u001b[43mperson_details\u001b[49m\u001b[43m(\u001b[49m\u001b[43m)\u001b[49m\n",
      "\u001b[0;31mTypeError\u001b[0m: person_details() missing 2 required positional arguments: 'name' and 'age'"
     ]
    }
   ],
   "source": [
    "def person_details(name, age):\n",
    "    return f\"{name} is {age} years old\"\n",
    "person_details()"
   ]
  },
  {
   "cell_type": "code",
   "execution_count": 16,
   "metadata": {},
   "outputs": [
    {
     "name": "stdout",
     "output_type": "stream",
     "text": [
      "result = None <class 'NoneType'>\n"
     ]
    }
   ],
   "source": [
    "# NOTE: Ensure to pass the exact number of arguments in function call, as in function definition.\n",
    "def some_function():\n",
    "    pass\n",
    "    # default return is None type object\n",
    "\n",
    "\n",
    "result = some_function()\n",
    "print(\"result =\", result, type(result))"
   ]
  },
  {
   "cell_type": "code",
   "execution_count": 17,
   "metadata": {},
   "outputs": [
    {
     "name": "stdout",
     "output_type": "stream",
     "text": [
      "result = None <class 'NoneType'>\n"
     ]
    }
   ],
   "source": [
    "def some_function():\n",
    "    return None\n",
    "\n",
    "\n",
    "result = some_function()\n",
    "print(\"result =\", result, type(result))"
   ]
  },
  {
   "cell_type": "code",
   "execution_count": 18,
   "metadata": {},
   "outputs": [
    {
     "name": "stdout",
     "output_type": "stream",
     "text": [
      "result = 12 <class 'int'>\n"
     ]
    }
   ],
   "source": [
    "def some_function():\n",
    "    return 12\n",
    "\n",
    "\n",
    "result = some_function()\n",
    "print(\"result =\", result, type(result))"
   ]
  },
  {
   "cell_type": "code",
   "execution_count": 19,
   "metadata": {},
   "outputs": [
    {
     "name": "stdout",
     "output_type": "stream",
     "text": [
      "result = 12.0 <class 'float'>\n"
     ]
    }
   ],
   "source": [
    "def some_function():\n",
    "    return 12.0\n",
    "\n",
    "\n",
    "result = some_function()\n",
    "print(\"result =\", result, type(result))"
   ]
  },
  {
   "cell_type": "code",
   "execution_count": 20,
   "metadata": {},
   "outputs": [
    {
     "name": "stdout",
     "output_type": "stream",
     "text": [
      "result = {12: 34} <class 'dict'>\n"
     ]
    }
   ],
   "source": [
    "def some_function():\n",
    "    return {12: 34}\n",
    "\n",
    "\n",
    "result = some_function()\n",
    "print(\"result =\", result, type(result))"
   ]
  },
  {
   "cell_type": "code",
   "execution_count": 21,
   "metadata": {},
   "outputs": [
    {
     "name": "stdout",
     "output_type": "stream",
     "text": [
      "result = Gudo's age is 67 <class 'str'>\n"
     ]
    }
   ],
   "source": [
    "def some_function():\n",
    "    return \"%s's age is %d\" % (\"Gudo\", 67)\n",
    "\n",
    "\n",
    "result = some_function()\n",
    "print(\"result =\", result, type(result))"
   ]
  },
  {
   "cell_type": "code",
   "execution_count": 22,
   "metadata": {},
   "outputs": [
    {
     "name": "stdout",
     "output_type": "stream",
     "text": [
      "result = (12.0,) <class 'tuple'>\n"
     ]
    }
   ],
   "source": [
    "def some_function():\n",
    "    return 12.0,  # ,(comma) at the end of statement makes the difference\n",
    "\n",
    "\n",
    "result = some_function()\n",
    "print(\"result =\", result, type(result))"
   ]
  },
  {
   "cell_type": "code",
   "execution_count": 23,
   "metadata": {},
   "outputs": [
    {
     "name": "stdout",
     "output_type": "stream",
     "text": [
      "result = ((12,),) <class 'tuple'>\n"
     ]
    }
   ],
   "source": [
    "def some_function():\n",
    "    return ((12,),)\n",
    "\n",
    "\n",
    "result = some_function()\n",
    "print(\"result =\", result, type(result))"
   ]
  },
  {
   "cell_type": "code",
   "execution_count": 24,
   "metadata": {},
   "outputs": [
    {
     "name": "stdout",
     "output_type": "stream",
     "text": [
      "result = (123, 45) <class 'tuple'>\n"
     ]
    }
   ],
   "source": [
    "def some_other_function():\n",
    "    return 123, 45\n",
    "\n",
    "\n",
    "result = some_other_function()\n",
    "print(\"result =\", result, type(result))"
   ]
  },
  {
   "cell_type": "code",
   "execution_count": 25,
   "metadata": {},
   "outputs": [
    {
     "name": "stdout",
     "output_type": "stream",
     "text": [
      "result1      = 123\n",
      "result2      = 45\n"
     ]
    }
   ],
   "source": [
    "def some_other_function():\n",
    "    return 123, 45\n",
    "\n",
    "\n",
    "# tuple unpacking\n",
    "result1, result2 = some_other_function()\n",
    "print(\"result1      =\", result1)\n",
    "print(\"result2      =\", result2)"
   ]
  },
  {
   "cell_type": "code",
   "execution_count": 26,
   "metadata": {},
   "outputs": [
    {
     "name": "stdout",
     "output_type": "stream",
     "text": [
      "11 22 33\n"
     ]
    }
   ],
   "source": [
    "# list unpacking\n",
    "r1, r2, r3 = [11, 22, 33]\n",
    "print(r1, r2, r3)"
   ]
  },
  {
   "cell_type": "code",
   "execution_count": 27,
   "metadata": {},
   "outputs": [
    {
     "name": "stdout",
     "output_type": "stream",
     "text": [
      "786\n"
     ]
    }
   ],
   "source": [
    "##### Function Overwriting\n",
    "lucky_number = 1111\n",
    "lucky_number = 786\n",
    "print(lucky_number)"
   ]
  },
  {
   "cell_type": "code",
   "execution_count": 28,
   "metadata": {},
   "outputs": [
    {
     "name": "stdout",
     "output_type": "stream",
     "text": [
      "10\n",
      "5\n"
     ]
    }
   ],
   "source": [
    "#########      Default Arguments\n",
    "def myfunc(var1, var2, var3=0):\n",
    "    \"\"\"\n",
    "    Function to perform arithmetic add operation\n",
    "    :param var1: Number\n",
    "    :param var2: Number\n",
    "    :param var3: Number\n",
    "    :return: result of addition operation\n",
    "    \"\"\"\n",
    "    return var1 + var2 + var3\n",
    "\n",
    "\n",
    "print(myfunc(2, 3, 5))\n",
    "print(myfunc(2, 3))"
   ]
  },
  {
   "cell_type": "code",
   "execution_count": 29,
   "metadata": {},
   "outputs": [
    {
     "name": "stdout",
     "output_type": "stream",
     "text": [
      "30\n",
      "6\n"
     ]
    }
   ],
   "source": [
    "def multiplication(var1, var2, var3=1):\n",
    "    \"\"\"\n",
    "    Function to perform arithmetic Multiplication operation\n",
    "    :param var1: Number\n",
    "    :param var2: Number\n",
    "    :param var3: Number\n",
    "    :return: result of addition operation\n",
    "    \"\"\"\n",
    "    return var1 * var2 * var3\n",
    "\n",
    "\n",
    "print(multiplication(2, 3, 5))\n",
    "print(multiplication(2, 3))"
   ]
  },
  {
   "cell_type": "code",
   "execution_count": 30,
   "metadata": {},
   "outputs": [
    {
     "name": "stdout",
     "output_type": "stream",
     "text": [
      "['__annotations__', '__builtins__', '__call__', '__class__', '__closure__', '__code__', '__defaults__', '__delattr__', '__dict__', '__dir__', '__doc__', '__eq__', '__format__', '__ge__', '__get__', '__getattribute__', '__getstate__', '__globals__', '__gt__', '__hash__', '__init__', '__init_subclass__', '__kwdefaults__', '__le__', '__lt__', '__module__', '__name__', '__ne__', '__new__', '__qualname__', '__reduce__', '__reduce_ex__', '__repr__', '__setattr__', '__sizeof__', '__str__', '__subclasshook__', '__type_params__']\n"
     ]
    }
   ],
   "source": [
    "def greetings(name, msg=\"Birthday\"):\n",
    "    return f\"Hi, {name}! Happy {msg}!!!\"\n",
    "print(dir(greetings))"
   ]
  },
  {
   "cell_type": "code",
   "execution_count": 31,
   "metadata": {},
   "outputs": [
    {
     "data": {
      "text/plain": [
       "('Birthday',)"
      ]
     },
     "execution_count": 31,
     "metadata": {},
     "output_type": "execute_result"
    }
   ],
   "source": [
    "greetings.__defaults__"
   ]
  },
  {
   "cell_type": "code",
   "execution_count": 32,
   "metadata": {},
   "outputs": [
    {
     "data": {
      "text/plain": [
       "'Hi, Udhay! Happy Birthday!!!'"
      ]
     },
     "execution_count": 32,
     "metadata": {},
     "output_type": "execute_result"
    }
   ],
   "source": [
    "greetings(\"Udhay\")"
   ]
  },
  {
   "cell_type": "code",
   "execution_count": 33,
   "metadata": {},
   "outputs": [
    {
     "data": {
      "text/plain": [
       "'Hi, Prakash! Happy Wedding Anniversary!!!'"
      ]
     },
     "execution_count": 33,
     "metadata": {},
     "output_type": "execute_result"
    }
   ],
   "source": [
    "greetings(\"Prakash\", \"Wedding Anniversary\")"
   ]
  },
  {
   "cell_type": "code",
   "execution_count": 34,
   "metadata": {},
   "outputs": [
    {
     "name": "stdout",
     "output_type": "stream",
     "text": [
      "0 27 1\n"
     ]
    },
    {
     "data": {
      "text/plain": [
       "'Honorificabilitudinitatibus'"
      ]
     },
     "execution_count": 34,
     "metadata": {},
     "output_type": "execute_result"
    }
   ],
   "source": [
    "# __NOTE:__ default args should be at the end only \n",
    "def string_slicing(input_string, start_index=0, final_index=None, step=1):\n",
    "    if final_index is None:\n",
    "        final_index = len(input_string)\n",
    "\n",
    "    print(start_index, final_index, step)\n",
    "    return input_string[start_index:final_index:step]\n",
    "\n",
    "\n",
    "string_slicing(\"Honorificabilitudinitatibus\")"
   ]
  },
  {
   "cell_type": "code",
   "execution_count": 35,
   "metadata": {},
   "outputs": [
    {
     "name": "stdout",
     "output_type": "stream",
     "text": [
      "0 27 1\n"
     ]
    },
    {
     "data": {
      "text/plain": [
       "'Honorificabilitudinitatibus'"
      ]
     },
     "execution_count": 35,
     "metadata": {},
     "output_type": "execute_result"
    }
   ],
   "source": [
    "def string_slicing(input_string, start_index=0, final_index=None, step=1):\n",
    "    final_index = final_index or len(input_string)\n",
    "\n",
    "    print(start_index, final_index, step)\n",
    "    return input_string[start_index:final_index:step]\n",
    "\n",
    "\n",
    "string_slicing(\"Honorificabilitudinitatibus\")"
   ]
  },
  {
   "cell_type": "code",
   "execution_count": 36,
   "metadata": {},
   "outputs": [
    {
     "name": "stdout",
     "output_type": "stream",
     "text": [
      "3 19 2\n"
     ]
    },
    {
     "data": {
      "text/plain": [
       "'oiiaiiui'"
      ]
     },
     "execution_count": 36,
     "metadata": {},
     "output_type": "execute_result"
    }
   ],
   "source": [
    "string_slicing(\"Honorificabilitudinitatibus\", 3, 19, 2)"
   ]
  },
  {
   "cell_type": "code",
   "execution_count": 37,
   "metadata": {},
   "outputs": [
    {
     "data": {
      "text/plain": [
       "(0, None, 1)"
      ]
     },
     "execution_count": 37,
     "metadata": {},
     "output_type": "execute_result"
    }
   ],
   "source": [
    "string_slicing.__defaults__"
   ]
  },
  {
   "cell_type": "code",
   "execution_count": 38,
   "metadata": {},
   "outputs": [
    {
     "data": {
      "text/plain": [
       "([],)"
      ]
     },
     "execution_count": 38,
     "metadata": {},
     "output_type": "execute_result"
    }
   ],
   "source": [
    "########  Problem with mutable default arguments\n",
    "def extend_list(val, mylist=[]):\n",
    "    print(f\"id(mylist) = {id(mylist)} mylist={mylist}  \")\n",
    "    mylist.append(val)\n",
    "    return mylist\n",
    "extend_list.__defaults__"
   ]
  },
  {
   "cell_type": "code",
   "execution_count": 39,
   "metadata": {},
   "outputs": [
    {
     "name": "stdout",
     "output_type": "stream",
     "text": [
      "id(mylist) = 139847174607424 mylist=[]  \n"
     ]
    },
    {
     "data": {
      "text/plain": [
       "[10]"
      ]
     },
     "execution_count": 39,
     "metadata": {},
     "output_type": "execute_result"
    }
   ],
   "source": [
    "list1 = extend_list(10)\n",
    "list1"
   ]
  },
  {
   "cell_type": "code",
   "execution_count": 40,
   "metadata": {},
   "outputs": [
    {
     "name": "stdout",
     "output_type": "stream",
     "text": [
      "id(mylist) = 139847179308736 mylist=[]  \n"
     ]
    },
    {
     "data": {
      "text/plain": [
       "[123]"
      ]
     },
     "execution_count": 40,
     "metadata": {},
     "output_type": "execute_result"
    }
   ],
   "source": [
    "list2 = extend_list(123, [])\n",
    "list2"
   ]
  },
  {
   "cell_type": "code",
   "execution_count": 41,
   "metadata": {},
   "outputs": [
    {
     "name": "stdout",
     "output_type": "stream",
     "text": [
      "id(mylist) = 139847174607424 mylist=[10]  \n"
     ]
    },
    {
     "data": {
      "text/plain": [
       "[10, 'a']"
      ]
     },
     "execution_count": 41,
     "metadata": {},
     "output_type": "execute_result"
    }
   ],
   "source": [
    "list3 = extend_list(\"a\")\n",
    "list3"
   ]
  },
  {
   "cell_type": "code",
   "execution_count": 42,
   "metadata": {},
   "outputs": [
    {
     "data": {
      "text/plain": [
       "(139847174607424, 139847179308736, 139847174607424)"
      ]
     },
     "execution_count": 42,
     "metadata": {},
     "output_type": "execute_result"
    }
   ],
   "source": [
    "id(list1), id(list2), id(list3)"
   ]
  },
  {
   "cell_type": "code",
   "execution_count": 43,
   "metadata": {},
   "outputs": [
    {
     "name": "stdout",
     "output_type": "stream",
     "text": [
      "id(mylist) = 139847174541824 mylist=[]  \n",
      "[10]\n",
      "id(mylist) = 139847174549696 mylist=[]  \n",
      "[123]\n",
      "id(mylist) = 139847174539328 mylist=[]  \n",
      "['a']\n"
     ]
    }
   ],
   "source": [
    "# NOTE: Best practice is to use a sentinel value to denote an empty list or dictionary or set.\n",
    "# Best practice\n",
    "\n",
    "\n",
    "# def extend_list(val, mylist= []):\n",
    "#     print(f'id(mylist) = {id(mylist)} mylist={mylist}  ')\n",
    "#     mylist.append(val)\n",
    "#     return mylist\n",
    "\n",
    "\n",
    "def extend_list(val, mylist=None):\n",
    "    if mylist is None:\n",
    "        mylist = []\n",
    "    print(f\"id(mylist) = {id(mylist)} mylist={mylist}  \")\n",
    "    mylist.append(val)\n",
    "    return mylist\n",
    "list1 = extend_list(10)\n",
    "print(list1)\n",
    "\n",
    "list2 = extend_list(123, [])\n",
    "print(list2)\n",
    "\n",
    "list3 = extend_list(\"a\")\n",
    "print(list3)"
   ]
  },
  {
   "cell_type": "code",
   "execution_count": 21,
   "metadata": {},
   "outputs": [
    {
     "ename": "NameError",
     "evalue": "name 'list1' is not defined",
     "output_type": "error",
     "traceback": [
      "\u001b[0;31m---------------------------------------------------------------------------\u001b[0m",
      "\u001b[0;31mNameError\u001b[0m                                 Traceback (most recent call last)",
      "Cell \u001b[0;32mIn[21], line 1\u001b[0m\n\u001b[0;32m----> 1\u001b[0m \u001b[38;5;28mid\u001b[39m(\u001b[43mlist1\u001b[49m), \u001b[38;5;28mid\u001b[39m(list2), \u001b[38;5;28mid\u001b[39m(list3)\n",
      "\u001b[0;31mNameError\u001b[0m: name 'list1' is not defined"
     ]
    }
   ],
   "source": [
    "id(list1), id(list2), id(list3)"
   ]
  },
  {
   "cell_type": "code",
   "execution_count": 22,
   "metadata": {},
   "outputs": [
    {
     "ename": "NameError",
     "evalue": "name 'extend_list' is not defined",
     "output_type": "error",
     "traceback": [
      "\u001b[0;31m---------------------------------------------------------------------------\u001b[0m",
      "\u001b[0;31mNameError\u001b[0m                                 Traceback (most recent call last)",
      "Cell \u001b[0;32mIn[22], line 1\u001b[0m\n\u001b[0;32m----> 1\u001b[0m \u001b[43mextend_list\u001b[49m\u001b[38;5;241m.\u001b[39m\u001b[38;5;18m__defaults__\u001b[39m\n",
      "\u001b[0;31mNameError\u001b[0m: name 'extend_list' is not defined"
     ]
    }
   ],
   "source": [
    "extend_list.__defaults__"
   ]
  },
  {
   "cell_type": "markdown",
   "metadata": {},
   "source": [
    "## Variadic Functions\n",
    "Function which can accept any number of arguments\n",
    "\n",
    "Ex: print() function"
   ]
  },
  {
   "cell_type": "code",
   "execution_count": 6,
   "metadata": {},
   "outputs": [
    {
     "name": "stdout",
     "output_type": "stream",
     "text": [
      "\n"
     ]
    }
   ],
   "source": [
    "print()"
   ]
  },
  {
   "cell_type": "code",
   "execution_count": 17,
   "metadata": {},
   "outputs": [
    {
     "name": "stdout",
     "output_type": "stream",
     "text": [
      "12\n"
     ]
    }
   ],
   "source": [
    "print(12)"
   ]
  },
  {
   "cell_type": "code",
   "execution_count": 25,
   "metadata": {},
   "outputs": [
    {
     "name": "stdout",
     "output_type": "stream",
     "text": [
      "12\n"
     ]
    }
   ],
   "source": [
    "print(12)"
   ]
  },
  {
   "cell_type": "code",
   "execution_count": 1,
   "metadata": {},
   "outputs": [
    {
     "ename": "NameError",
     "evalue": "name 'list1' is not defined",
     "output_type": "error",
     "traceback": [
      "\u001b[0;31m---------------------------------------------------------------------------\u001b[0m",
      "\u001b[0;31mNameError\u001b[0m                                 Traceback (most recent call last)",
      "Cell \u001b[0;32mIn[1], line 1\u001b[0m\n\u001b[0;32m----> 1\u001b[0m \u001b[38;5;28mprint\u001b[39m(\u001b[38;5;241m12\u001b[39m, \u001b[38;5;124m\"\u001b[39m\u001b[38;5;124m34\u001b[39m\u001b[38;5;124m\"\u001b[39m, \u001b[38;5;28;01mNone\u001b[39;00m, {\u001b[38;5;241m12\u001b[39m: \u001b[38;5;124m\"\u001b[39m\u001b[38;5;124m34\u001b[39m\u001b[38;5;124m\"\u001b[39m}, \u001b[43mlist1\u001b[49m)\n",
      "\u001b[0;31mNameError\u001b[0m: name 'list1' is not defined"
     ]
    }
   ],
   "source": [
    "print(12, \"34\", None, {12: \"34\"}, list1)"
   ]
  },
  {
   "cell_type": "code",
   "execution_count": 2,
   "metadata": {},
   "outputs": [
    {
     "name": "stdout",
     "output_type": "stream",
     "text": [
      "\n",
      "type(given)   <class 'tuple'>\n",
      "type(feed_in)  <class 'dict'>\n",
      "given   ()\n",
      "feed_in {}\n",
      "--------------------\n",
      "\n",
      "type(given)   <class 'tuple'>\n",
      "type(feed_in)  <class 'dict'>\n",
      "given   (99,)\n",
      "feed_in {}\n",
      "--------------------\n",
      "\n",
      "type(given)   <class 'tuple'>\n",
      "type(feed_in)  <class 'dict'>\n",
      "given   (99, -0.2312)\n",
      "feed_in {}\n",
      "--------------------\n"
     ]
    },
    {
     "ename": "NameError",
     "evalue": "name 'list1' is not defined",
     "output_type": "error",
     "traceback": [
      "\u001b[0;31m---------------------------------------------------------------------------\u001b[0m",
      "\u001b[0;31mNameError\u001b[0m                                 Traceback (most recent call last)",
      "Cell \u001b[0;32mIn[2], line 15\u001b[0m\n\u001b[1;32m     13\u001b[0m hello(\u001b[38;5;241m99\u001b[39m)\n\u001b[1;32m     14\u001b[0m hello(\u001b[38;5;241m99\u001b[39m, \u001b[38;5;241m-\u001b[39m\u001b[38;5;241m0.2312\u001b[39m)\n\u001b[0;32m---> 15\u001b[0m hello(\u001b[38;5;241m99\u001b[39m, \u001b[38;5;241m-\u001b[39m\u001b[38;5;241m0.2312\u001b[39m, \u001b[38;5;241m12\u001b[39m, \u001b[38;5;124m\"\u001b[39m\u001b[38;5;124m34\u001b[39m\u001b[38;5;124m\"\u001b[39m, \u001b[38;5;28;01mNone\u001b[39;00m, {\u001b[38;5;241m12\u001b[39m: \u001b[38;5;124m\"\u001b[39m\u001b[38;5;124m34\u001b[39m\u001b[38;5;124m\"\u001b[39m}, \u001b[43mlist1\u001b[49m)\n\u001b[1;32m     17\u001b[0m hello(language\u001b[38;5;241m=\u001b[39m\u001b[38;5;124m\"\u001b[39m\u001b[38;5;124mPython\u001b[39m\u001b[38;5;124m\"\u001b[39m)\n\u001b[1;32m     18\u001b[0m hello(language\u001b[38;5;241m=\u001b[39m\u001b[38;5;124m\"\u001b[39m\u001b[38;5;124mPython\u001b[39m\u001b[38;5;124m\"\u001b[39m, env\u001b[38;5;241m=\u001b[39m\u001b[38;5;124m\"\u001b[39m\u001b[38;5;124mdev\u001b[39m\u001b[38;5;124m\"\u001b[39m)\n",
      "\u001b[0;31mNameError\u001b[0m: name 'list1' is not defined"
     ]
    }
   ],
   "source": [
    "# Function Definition\n",
    "def hello(*given, **feed_in):\n",
    "    print(\"\\ntype(given)  \", type(given))\n",
    "    print(\"type(feed_in) \", type(feed_in))\n",
    "\n",
    "    print(\"given   \" + str(given))\n",
    "    print(\"feed_in \" + str(feed_in))\n",
    "    print(\"-\" * 20)\n",
    "\n",
    "\n",
    "# works for any number of arguments & keyword arguments\n",
    "hello()\n",
    "hello(99)\n",
    "hello(99, -0.2312)\n",
    "hello(99, -0.2312, 12, \"34\", None, {12: \"34\"}, list1)\n",
    "\n",
    "hello(language=\"Python\")\n",
    "hello(language=\"Python\", env=\"dev\")\n",
    "hello(language=\"Python\", version=3, subversion=8)"
   ]
  },
  {
   "cell_type": "markdown",
   "metadata": {},
   "source": [
    "### Function Overwriting"
   ]
  },
  {
   "cell_type": "code",
   "execution_count": 1,
   "metadata": {},
   "outputs": [
    {
     "name": "stdout",
     "output_type": "stream",
     "text": [
      "5\n"
     ]
    },
    {
     "ename": "TypeError",
     "evalue": "myfunc() takes 2 positional arguments but 3 were given",
     "output_type": "error",
     "traceback": [
      "\u001b[0;31m---------------------------------------------------------------------------\u001b[0m",
      "\u001b[0;31mTypeError\u001b[0m                                 Traceback (most recent call last)",
      "Cell \u001b[0;32mIn[1], line 25\u001b[0m\n\u001b[1;32m     21\u001b[0m     \u001b[38;5;28;01mreturn\u001b[39;00m num1 \u001b[38;5;241m+\u001b[39m num2\n\u001b[1;32m     24\u001b[0m \u001b[38;5;28mprint\u001b[39m(myfunc(\u001b[38;5;241m2\u001b[39m, \u001b[38;5;241m3\u001b[39m))\n\u001b[0;32m---> 25\u001b[0m \u001b[38;5;28mprint\u001b[39m(\u001b[43mmyfunc\u001b[49m\u001b[43m(\u001b[49m\u001b[38;5;241;43m2\u001b[39;49m\u001b[43m,\u001b[49m\u001b[43m \u001b[49m\u001b[38;5;241;43m3\u001b[39;49m\u001b[43m,\u001b[49m\u001b[43m \u001b[49m\u001b[38;5;241;43m5\u001b[39;49m\u001b[43m)\u001b[49m)\n",
      "\u001b[0;31mTypeError\u001b[0m: myfunc() takes 2 positional arguments but 3 were given"
     ]
    }
   ],
   "source": [
    "# Two functions with same name, but different number of arguments in definition\n",
    "\n",
    "def myfunc(var1, var2, var3):\n",
    "    \"\"\"\n",
    "    Function to perform arithmetic Multiplication operation\n",
    "    :param var1: Number\n",
    "    :param var2: Number\n",
    "    :param var3: Number\n",
    "    :return: result of addition operation\n",
    "    \"\"\"\n",
    "    return var1 + var2 + var3\n",
    "\n",
    "\n",
    "def myfunc(num1, num2):\n",
    "    \"\"\"\n",
    "    Function to perform arithmetic Addition operation\n",
    "    :param num1: Number\n",
    "    :param num2: Number\n",
    "    :return: result of addition operation\n",
    "    \"\"\"\n",
    "    return num1 + num2\n",
    "\n",
    "\n",
    "print(myfunc(2, 3))\n",
    "print(myfunc(2, 3, 5))"
   ]
  },
  {
   "cell_type": "code",
   "execution_count": 2,
   "metadata": {},
   "outputs": [
    {
     "name": "stdout",
     "output_type": "stream",
     "text": [
      "10\n"
     ]
    },
    {
     "ename": "TypeError",
     "evalue": "myfunc() missing 1 required positional argument: 'var3'",
     "output_type": "error",
     "traceback": [
      "\u001b[0;31m---------------------------------------------------------------------------\u001b[0m",
      "\u001b[0;31mTypeError\u001b[0m                                 Traceback (most recent call last)",
      "Cell \u001b[0;32mIn[2], line 24\u001b[0m\n\u001b[1;32m     20\u001b[0m     \u001b[38;5;28;01mreturn\u001b[39;00m var1 \u001b[38;5;241m+\u001b[39m var2 \u001b[38;5;241m+\u001b[39m var3\n\u001b[1;32m     23\u001b[0m \u001b[38;5;28mprint\u001b[39m(myfunc(\u001b[38;5;241m2\u001b[39m, \u001b[38;5;241m3\u001b[39m, \u001b[38;5;241m5\u001b[39m))\n\u001b[0;32m---> 24\u001b[0m \u001b[38;5;28mprint\u001b[39m(\u001b[43mmyfunc\u001b[49m\u001b[43m(\u001b[49m\u001b[38;5;241;43m2\u001b[39;49m\u001b[43m,\u001b[49m\u001b[43m \u001b[49m\u001b[38;5;241;43m3\u001b[39;49m\u001b[43m)\u001b[49m)\n",
      "\u001b[0;31mTypeError\u001b[0m: myfunc() missing 1 required positional argument: 'var3'"
     ]
    }
   ],
   "source": [
    "# Two functions with same name, but different number of arguments in definition\n",
    "def myfunc(num1, num2):\n",
    "    \"\"\"\n",
    "    Function to perform arithmetic Addition operation\n",
    "    :param num1: Number\n",
    "    :param num2: Number\n",
    "    :return: result of addition operation\n",
    "    \"\"\"\n",
    "    return num1 + num2\n",
    "\n",
    "\n",
    "def myfunc(var1, var2, var3):\n",
    "    \"\"\"\n",
    "    Function to perform arithmetic Addition operation\n",
    "    :param var1: Number\n",
    "    :param var2: Number\n",
    "    :param var3: Number\n",
    "    :return: result of addition operation\n",
    "    \"\"\"\n",
    "    return var1 + var2 + var3\n",
    "\n",
    "\n",
    "print(myfunc(2, 3, 5))\n",
    "print(myfunc(2, 3))"
   ]
  },
  {
   "cell_type": "code",
   "execution_count": 3,
   "metadata": {},
   "outputs": [
    {
     "name": "stdout",
     "output_type": "stream",
     "text": [
      "10\n",
      "5\n"
     ]
    }
   ],
   "source": [
    "#####   Default Arguments\n",
    "def myfunc(var1, var2, var3=0):\n",
    "    \"\"\"\n",
    "    Function to perform arithmetic add operation\n",
    "    :param var1: Number\n",
    "    :param var2: Number\n",
    "    :param var3: Number\n",
    "    :return: result of addition operation\n",
    "    \"\"\"\n",
    "    return var1 + var2 + var3\n",
    "\n",
    "\n",
    "print(myfunc(2, 3, 5))\n",
    "print(myfunc(2, 3))"
   ]
  },
  {
   "cell_type": "code",
   "execution_count": 4,
   "metadata": {},
   "outputs": [
    {
     "name": "stdout",
     "output_type": "stream",
     "text": [
      "30\n",
      "6\n"
     ]
    }
   ],
   "source": [
    "def multiplication(var1, var2, var3=1):\n",
    "    \"\"\"\n",
    "    Function to perform arithmetic Multiplication operation\n",
    "    :param var1: Number\n",
    "    :param var2: Number\n",
    "    :param var3: Number\n",
    "    :return: result of addition operation\n",
    "    \"\"\"\n",
    "    return var1 * var2 * var3\n",
    "\n",
    "\n",
    "print(multiplication(2, 3, 5))\n",
    "print(multiplication(2, 3))"
   ]
  },
  {
   "cell_type": "code",
   "execution_count": 5,
   "metadata": {},
   "outputs": [
    {
     "name": "stdout",
     "output_type": "stream",
     "text": [
      "['__annotations__', '__builtins__', '__call__', '__class__', '__closure__', '__code__', '__defaults__', '__delattr__', '__dict__', '__dir__', '__doc__', '__eq__', '__format__', '__ge__', '__get__', '__getattribute__', '__getstate__', '__globals__', '__gt__', '__hash__', '__init__', '__init_subclass__', '__kwdefaults__', '__le__', '__lt__', '__module__', '__name__', '__ne__', '__new__', '__qualname__', '__reduce__', '__reduce_ex__', '__repr__', '__setattr__', '__sizeof__', '__str__', '__subclasshook__', '__type_params__']\n"
     ]
    }
   ],
   "source": [
    "def greetings(name, msg=\"Birthday\"):\n",
    "    return f\"Hi, {name}! Happy {msg}!!!\"\n",
    "print(dir(greetings))"
   ]
  },
  {
   "cell_type": "markdown",
   "metadata": {},
   "source": [
    "## Function with keyword ONLY arguments (only in python 3.x)\n",
    "### Named arguments appearing after '*' can only be passed by keyword"
   ]
  },
  {
   "cell_type": "code",
   "execution_count": 6,
   "metadata": {},
   "outputs": [
    {
     "name": "stdout",
     "output_type": "stream",
     "text": [
      "\n",
      "type(maxsize)   <class 'int'>\n",
      "type(block)  <class 'bool'>\n",
      "maxsize   8192\n",
      "block True\n",
      "--------------------\n"
     ]
    }
   ],
   "source": [
    "# Function Definition\n",
    "def recv(maxsize, *, block=True):\n",
    "    print(\"\\ntype(maxsize)  \", type(maxsize))\n",
    "    print(\"type(block) \", type(block))\n",
    "\n",
    "    print(\"maxsize   \" + str(maxsize))\n",
    "    print(\"block \" + str(block))\n",
    "    print(\"-\" * 20)\n",
    "\n",
    "\n",
    "# Function Call\n",
    "recv(8192)  # default case"
   ]
  },
  {
   "cell_type": "code",
   "execution_count": 7,
   "metadata": {},
   "outputs": [
    {
     "ename": "TypeError",
     "evalue": "recv() takes 1 positional argument but 2 were given",
     "output_type": "error",
     "traceback": [
      "\u001b[0;31m---------------------------------------------------------------------------\u001b[0m",
      "\u001b[0;31mTypeError\u001b[0m                                 Traceback (most recent call last)",
      "Cell \u001b[0;32mIn[7], line 1\u001b[0m\n\u001b[0;32m----> 1\u001b[0m \u001b[43mrecv\u001b[49m\u001b[43m(\u001b[49m\u001b[38;5;241;43m8192\u001b[39;49m\u001b[43m,\u001b[49m\u001b[43m \u001b[49m\u001b[38;5;28;43;01mFalse\u001b[39;49;00m\u001b[43m)\u001b[49m\n",
      "\u001b[0;31mTypeError\u001b[0m: recv() takes 1 positional argument but 2 were given"
     ]
    }
   ],
   "source": [
    "recv(8192, False)"
   ]
  },
  {
   "cell_type": "code",
   "execution_count": 8,
   "metadata": {},
   "outputs": [
    {
     "name": "stdout",
     "output_type": "stream",
     "text": [
      "\n",
      "type(maxsize)   <class 'int'>\n",
      "type(block)  <class 'bool'>\n",
      "maxsize   8192\n",
      "block False\n",
      "--------------------\n",
      "\n",
      "type(maxsize)   <class 'int'>\n",
      "type(block)  <class 'bool'>\n",
      "maxsize   8192\n",
      "block False\n",
      "--------------------\n"
     ]
    }
   ],
   "source": [
    "recv(8192, block=False)\n",
    "\n",
    "recv(maxsize=8192, block=False)"
   ]
  },
  {
   "cell_type": "markdown",
   "metadata": {},
   "source": [
    "### Scoping - Global vs Local\n",
    "## Variables can accessed within functions, without passing as args in function call"
   ]
  },
  {
   "cell_type": "code",
   "execution_count": 9,
   "metadata": {},
   "outputs": [
    {
     "name": "stdout",
     "output_type": "stream",
     "text": [
      "in      --- alphabets {'a': 1, 'b': 2}\n",
      "outside --- alphabets {'a': 1, 'b': 2}\n"
     ]
    }
   ],
   "source": [
    "alphabets = {\"a\": 1, \"b\": 2}  # mutable object\n",
    "\n",
    "\n",
    "def computation():\n",
    "    print(\"in      --- alphabets\", alphabets)\n",
    "\n",
    "\n",
    "computation()\n",
    "print(\"outside --- alphabets\", alphabets)"
   ]
  },
  {
   "cell_type": "code",
   "execution_count": 10,
   "metadata": {},
   "outputs": [
    {
     "name": "stdout",
     "output_type": "stream",
     "text": [
      "in - before - alphabets {'a': 1, 'b': 2}\n",
      "in - after  - alphabets {'a': 1, 'b': 2, 'c': 3}\n",
      "outside --   - alphabets {'a': 1, 'b': 2, 'c': 3}\n"
     ]
    }
   ],
   "source": [
    "alphabets = {\"a\": 1, \"b\": 2}  # mutable object\n",
    "\n",
    "\n",
    "def computation():\n",
    "    print(\"in - before - alphabets\", alphabets)\n",
    "    alphabets[\"c\"] = 3\n",
    "    print(\"in - after  - alphabets\", alphabets)\n",
    "\n",
    "\n",
    "computation()\n",
    "print(\"outside --   - alphabets\", alphabets)"
   ]
  },
  {
   "cell_type": "code",
   "execution_count": 11,
   "metadata": {},
   "outputs": [
    {
     "ename": "NameError",
     "evalue": "name 'v' is not defined",
     "output_type": "error",
     "traceback": [
      "\u001b[0;31m---------------------------------------------------------------------------\u001b[0m",
      "\u001b[0;31mNameError\u001b[0m                                 Traceback (most recent call last)",
      "Cell \u001b[0;32mIn[11], line 1\u001b[0m\n\u001b[0;32m----> 1\u001b[0m \u001b[43mv\u001b[49m\n",
      "\u001b[0;31mNameError\u001b[0m: name 'v' is not defined"
     ]
    }
   ],
   "source": [
    "v"
   ]
  },
  {
   "cell_type": "code",
   "execution_count": 12,
   "metadata": {},
   "outputs": [
    {
     "name": "stdout",
     "output_type": "stream",
     "text": [
      "in - before - alphabets {'a': 1, 'b': 2}\n",
      "in - after - alphabets {'a': 1, 'b': 2, 'c': 3}\n",
      "id(alphabets_local):128296513011392\n",
      "outside --- alphabets {'a': 1, 'b': 2, 'c': 3}\n",
      "id(alphabets):128296513011392\n"
     ]
    }
   ],
   "source": [
    "alphabets = {\"a\": 1, \"b\": 2}  # mutable object\n",
    "\n",
    "\n",
    "def computation(alphabets_local):\n",
    "    print(\"in - before - alphabets\", alphabets_local)\n",
    "    alphabets_local[\"c\"] = 3\n",
    "    print(\"in - after - alphabets\", alphabets_local)\n",
    "    print(f\"id(alphabets_local):{id(alphabets_local)}\")\n",
    "\n",
    "\n",
    "computation(alphabets)\n",
    "print(\"outside --- alphabets\", alphabets)\n",
    "\n",
    "print(f\"id(alphabets):{id(alphabets)}\")\n",
    "# print(f\"id(alphabets_local):{id(alphabets_local)}\")  NameError: name 'alphabets_local' is not defined"
   ]
  },
  {
   "cell_type": "code",
   "execution_count": 13,
   "metadata": {},
   "outputs": [
    {
     "name": "stdout",
     "output_type": "stream",
     "text": [
      "in - before - alphabets {'a': 1, 'b': 2}\n",
      "in - after - alphabets {'a': 1, 'b': 2, 'c': 3}\n",
      "id(alphabets_local):128296513011392\n",
      "outside --- alphabets {'a': 1, 'b': 2}\n",
      "id(alphabets):128296260224640\n"
     ]
    }
   ],
   "source": [
    "alphabets = {\"a\": 1, \"b\": 2}  # mutable object\n",
    "\n",
    "\n",
    "def computation(alphabets_local):\n",
    "    alphabets_local = alphabets_local.copy()\n",
    "    \n",
    "    print(\"in - before - alphabets\", alphabets_local)\n",
    "    alphabets_local[\"c\"] = 3\n",
    "    print(\"in - after - alphabets\", alphabets_local)\n",
    "    print(f\"id(alphabets_local):{id(alphabets_local)}\")\n",
    "\n",
    "\n",
    "computation(alphabets)\n",
    "print(\"outside --- alphabets\", alphabets)\n",
    "\n",
    "print(f\"id(alphabets):{id(alphabets)}\")\n",
    "# print(f\"id(alphabets_local):{id(alphabets_local)}\")  NameError: name 'alphabets_local' is not defined"
   ]
  },
  {
   "cell_type": "code",
   "execution_count": 14,
   "metadata": {},
   "outputs": [
    {
     "name": "stdout",
     "output_type": "stream",
     "text": [
      "in      --- pi 3.1416\n",
      "outside --- pi 3.1416\n"
     ]
    }
   ],
   "source": [
    "# By Default, \n",
    "#     for mutable object, It is call by reference == changes in function will reflect clear_output\n",
    "#                         call by value  with did .copy()\n",
    "pi = 3.1416   # immutable object\n",
    "\n",
    "\n",
    "def computation():\n",
    "    print(\"in      --- pi\", pi)\n",
    "\n",
    "\n",
    "computation()\n",
    "print(\"outside --- pi\", pi)   # without passing as input, we can use"
   ]
  },
  {
   "cell_type": "code",
   "execution_count": 15,
   "metadata": {},
   "outputs": [
    {
     "name": "stdout",
     "output_type": "stream",
     "text": [
      "in before     --- pi 3.1416 128296557969328\n",
      "in after      --- pi 23432 128296261490128\n",
      "outside --     - pi 3.1416 128296557969328\n"
     ]
    }
   ],
   "source": [
    "pi = 3.1416   # immutable object\n",
    "\n",
    "\n",
    "def computation(pi):\n",
    "    print(\"in before     --- pi\", pi, id(pi))\n",
    "    pi = 23432                               \n",
    "    print(\"in after      --- pi\", pi, id(pi))\n",
    "    \n",
    "\n",
    "\n",
    "computation(pi)\n",
    "print(\"outside --     - pi\", pi, id(pi))     #  call by value "
   ]
  },
  {
   "cell_type": "code",
   "execution_count": 16,
   "metadata": {},
   "outputs": [
    {
     "name": "stdout",
     "output_type": "stream",
     "text": [
      "in before     --- pi 3.1416 128296559999888\n",
      "in after      --- pi 23432 128296261485968\n",
      "outside --     - pi 23432 128296261485968\n"
     ]
    }
   ],
   "source": [
    "pi = 3.1416   # immutable object\n",
    "\n",
    "\n",
    "def computation():\n",
    "    global pi\n",
    "    print(\"in before     --- pi\", pi, id(pi))\n",
    "    pi = 23432                               \n",
    "    print(\"in after      --- pi\", pi, id(pi))\n",
    "    \n",
    "\n",
    "\n",
    "computation()\n",
    "print(\"outside --     - pi\", pi, id(pi))     #  call by reference "
   ]
  },
  {
   "cell_type": "code",
   "execution_count": 17,
   "metadata": {},
   "outputs": [],
   "source": [
    "# By Default, \n",
    "#     for mutable object, It is call by reference == changes in function will reflect output\n",
    "#                         call by value  with did .copy()\n",
    "#     for immutable object, It is call by value == changes in function will NOT reflect output\n",
    "#                         call by reference  with global declaration\n",
    "\n",
    "# call by value ---> changes in function will NOT reflect output\n",
    "# call by refrence ---> changes in function will reflect output"
   ]
  },
  {
   "cell_type": "code",
   "execution_count": 18,
   "metadata": {},
   "outputs": [
    {
     "data": {
      "text/plain": [
       "{'__name__': '__main__',\n",
       " '__doc__': 'Automatically created module for IPython interactive environment',\n",
       " '__package__': None,\n",
       " '__loader__': None,\n",
       " '__spec__': None,\n",
       " '__builtin__': <module 'builtins' (built-in)>,\n",
       " '__builtins__': <module 'builtins' (built-in)>,\n",
       " '_ih': ['',\n",
       "  '# Two functions with same name, but different number of arguments in definition\\n\\ndef myfunc(var1, var2, var3):\\n    \"\"\"\\n    Function to perform arithmetic Multiplication operation\\n    :param var1: Number\\n    :param var2: Number\\n    :param var3: Number\\n    :return: result of addition operation\\n    \"\"\"\\n    return var1 + var2 + var3\\n\\n\\ndef myfunc(num1, num2):\\n    \"\"\"\\n    Function to perform arithmetic Addition operation\\n    :param num1: Number\\n    :param num2: Number\\n    :return: result of addition operation\\n    \"\"\"\\n    return num1 + num2\\n\\n\\nprint(myfunc(2, 3))\\nprint(myfunc(2, 3, 5))',\n",
       "  '# Two functions with same name, but different number of arguments in definition\\ndef myfunc(num1, num2):\\n    \"\"\"\\n    Function to perform arithmetic Addition operation\\n    :param num1: Number\\n    :param num2: Number\\n    :return: result of addition operation\\n    \"\"\"\\n    return num1 + num2\\n\\n\\ndef myfunc(var1, var2, var3):\\n    \"\"\"\\n    Function to perform arithmetic Addition operation\\n    :param var1: Number\\n    :param var2: Number\\n    :param var3: Number\\n    :return: result of addition operation\\n    \"\"\"\\n    return var1 + var2 + var3\\n\\n\\nprint(myfunc(2, 3, 5))\\nprint(myfunc(2, 3))',\n",
       "  '#####   Default Arguments\\ndef myfunc(var1, var2, var3=0):\\n    \"\"\"\\n    Function to perform arithmetic add operation\\n    :param var1: Number\\n    :param var2: Number\\n    :param var3: Number\\n    :return: result of addition operation\\n    \"\"\"\\n    return var1 + var2 + var3\\n\\n\\nprint(myfunc(2, 3, 5))\\nprint(myfunc(2, 3))',\n",
       "  'def multiplication(var1, var2, var3=1):\\n    \"\"\"\\n    Function to perform arithmetic Multiplication operation\\n    :param var1: Number\\n    :param var2: Number\\n    :param var3: Number\\n    :return: result of addition operation\\n    \"\"\"\\n    return var1 * var2 * var3\\n\\n\\nprint(multiplication(2, 3, 5))\\nprint(multiplication(2, 3))',\n",
       "  'def greetings(name, msg=\"Birthday\"):\\n    return f\"Hi, {name}! Happy {msg}!!!\"\\nprint(dir(greetings))',\n",
       "  '# Function Definition\\ndef recv(maxsize, *, block=True):\\n    print(\"\\\\ntype(maxsize)  \", type(maxsize))\\n    print(\"type(block) \", type(block))\\n\\n    print(\"maxsize   \" + str(maxsize))\\n    print(\"block \" + str(block))\\n    print(\"-\" * 20)\\n\\n\\n# Function Call\\nrecv(8192)  # default case',\n",
       "  'recv(8192, False)',\n",
       "  'recv(8192, block=False)\\n\\nrecv(maxsize=8192, block=False)',\n",
       "  'alphabets = {\"a\": 1, \"b\": 2}  # mutable object\\n\\n\\ndef computation():\\n    print(\"in      --- alphabets\", alphabets)\\n\\n\\ncomputation()\\nprint(\"outside --- alphabets\", alphabets)',\n",
       "  'alphabets = {\"a\": 1, \"b\": 2}  # mutable object\\n\\n\\ndef computation():\\n    print(\"in - before - alphabets\", alphabets)\\n    alphabets[\"c\"] = 3\\n    print(\"in - after  - alphabets\", alphabets)\\n\\n\\ncomputation()\\nprint(\"outside --   - alphabets\", alphabets)',\n",
       "  'v',\n",
       "  'alphabets = {\"a\": 1, \"b\": 2}  # mutable object\\n\\n\\ndef computation(alphabets_local):\\n    print(\"in - before - alphabets\", alphabets_local)\\n    alphabets_local[\"c\"] = 3\\n    print(\"in - after - alphabets\", alphabets_local)\\n    print(f\"id(alphabets_local):{id(alphabets_local)}\")\\n\\n\\ncomputation(alphabets)\\nprint(\"outside --- alphabets\", alphabets)\\n\\nprint(f\"id(alphabets):{id(alphabets)}\")\\n# print(f\"id(alphabets_local):{id(alphabets_local)}\")  NameError: name \\'alphabets_local\\' is not defined',\n",
       "  'alphabets = {\"a\": 1, \"b\": 2}  # mutable object\\n\\n\\ndef computation(alphabets_local):\\n    alphabets_local = alphabets_local.copy()\\n    \\n    print(\"in - before - alphabets\", alphabets_local)\\n    alphabets_local[\"c\"] = 3\\n    print(\"in - after - alphabets\", alphabets_local)\\n    print(f\"id(alphabets_local):{id(alphabets_local)}\")\\n\\n\\ncomputation(alphabets)\\nprint(\"outside --- alphabets\", alphabets)\\n\\nprint(f\"id(alphabets):{id(alphabets)}\")\\n# print(f\"id(alphabets_local):{id(alphabets_local)}\")  NameError: name \\'alphabets_local\\' is not defined',\n",
       "  '# By Default, \\n#     for mutable object, It is call by reference == changes in function will reflect clear_output\\n#                         call by value  with did .copy()\\npi = 3.1416   # immutable object\\n\\n\\ndef computation():\\n    print(\"in      --- pi\", pi)\\n\\n\\ncomputation()\\nprint(\"outside --- pi\", pi)   # without passing as input, we can use',\n",
       "  'pi = 3.1416   # immutable object\\n\\n\\ndef computation(pi):\\n    print(\"in before     --- pi\", pi, id(pi))\\n    pi = 23432                               \\n    print(\"in after      --- pi\", pi, id(pi))\\n    \\n\\n\\ncomputation(pi)\\nprint(\"outside --     - pi\", pi, id(pi))     #  call by value ',\n",
       "  'pi = 3.1416   # immutable object\\n\\n\\ndef computation():\\n    global pi\\n    print(\"in before     --- pi\", pi, id(pi))\\n    pi = 23432                               \\n    print(\"in after      --- pi\", pi, id(pi))\\n    \\n\\n\\ncomputation()\\nprint(\"outside --     - pi\", pi, id(pi))     #  call by reference ',\n",
       "  '# By Default, \\n#     for mutable object, It is call by reference == changes in function will reflect output\\n#                         call by value  with did .copy()\\n#     for immutable object, It is call by value == changes in function will NOT reflect output\\n#                         call by reference  with global declaration\\n\\n# call by value ---> changes in function will NOT reflect output\\n# call by refrence ---> changes in function will reflect output',\n",
       "  'globals()'],\n",
       " '_oh': {},\n",
       " '_dh': [PosixPath('/workspaces/PythonBatchSept24/07_Functions')],\n",
       " 'In': ['',\n",
       "  '# Two functions with same name, but different number of arguments in definition\\n\\ndef myfunc(var1, var2, var3):\\n    \"\"\"\\n    Function to perform arithmetic Multiplication operation\\n    :param var1: Number\\n    :param var2: Number\\n    :param var3: Number\\n    :return: result of addition operation\\n    \"\"\"\\n    return var1 + var2 + var3\\n\\n\\ndef myfunc(num1, num2):\\n    \"\"\"\\n    Function to perform arithmetic Addition operation\\n    :param num1: Number\\n    :param num2: Number\\n    :return: result of addition operation\\n    \"\"\"\\n    return num1 + num2\\n\\n\\nprint(myfunc(2, 3))\\nprint(myfunc(2, 3, 5))',\n",
       "  '# Two functions with same name, but different number of arguments in definition\\ndef myfunc(num1, num2):\\n    \"\"\"\\n    Function to perform arithmetic Addition operation\\n    :param num1: Number\\n    :param num2: Number\\n    :return: result of addition operation\\n    \"\"\"\\n    return num1 + num2\\n\\n\\ndef myfunc(var1, var2, var3):\\n    \"\"\"\\n    Function to perform arithmetic Addition operation\\n    :param var1: Number\\n    :param var2: Number\\n    :param var3: Number\\n    :return: result of addition operation\\n    \"\"\"\\n    return var1 + var2 + var3\\n\\n\\nprint(myfunc(2, 3, 5))\\nprint(myfunc(2, 3))',\n",
       "  '#####   Default Arguments\\ndef myfunc(var1, var2, var3=0):\\n    \"\"\"\\n    Function to perform arithmetic add operation\\n    :param var1: Number\\n    :param var2: Number\\n    :param var3: Number\\n    :return: result of addition operation\\n    \"\"\"\\n    return var1 + var2 + var3\\n\\n\\nprint(myfunc(2, 3, 5))\\nprint(myfunc(2, 3))',\n",
       "  'def multiplication(var1, var2, var3=1):\\n    \"\"\"\\n    Function to perform arithmetic Multiplication operation\\n    :param var1: Number\\n    :param var2: Number\\n    :param var3: Number\\n    :return: result of addition operation\\n    \"\"\"\\n    return var1 * var2 * var3\\n\\n\\nprint(multiplication(2, 3, 5))\\nprint(multiplication(2, 3))',\n",
       "  'def greetings(name, msg=\"Birthday\"):\\n    return f\"Hi, {name}! Happy {msg}!!!\"\\nprint(dir(greetings))',\n",
       "  '# Function Definition\\ndef recv(maxsize, *, block=True):\\n    print(\"\\\\ntype(maxsize)  \", type(maxsize))\\n    print(\"type(block) \", type(block))\\n\\n    print(\"maxsize   \" + str(maxsize))\\n    print(\"block \" + str(block))\\n    print(\"-\" * 20)\\n\\n\\n# Function Call\\nrecv(8192)  # default case',\n",
       "  'recv(8192, False)',\n",
       "  'recv(8192, block=False)\\n\\nrecv(maxsize=8192, block=False)',\n",
       "  'alphabets = {\"a\": 1, \"b\": 2}  # mutable object\\n\\n\\ndef computation():\\n    print(\"in      --- alphabets\", alphabets)\\n\\n\\ncomputation()\\nprint(\"outside --- alphabets\", alphabets)',\n",
       "  'alphabets = {\"a\": 1, \"b\": 2}  # mutable object\\n\\n\\ndef computation():\\n    print(\"in - before - alphabets\", alphabets)\\n    alphabets[\"c\"] = 3\\n    print(\"in - after  - alphabets\", alphabets)\\n\\n\\ncomputation()\\nprint(\"outside --   - alphabets\", alphabets)',\n",
       "  'v',\n",
       "  'alphabets = {\"a\": 1, \"b\": 2}  # mutable object\\n\\n\\ndef computation(alphabets_local):\\n    print(\"in - before - alphabets\", alphabets_local)\\n    alphabets_local[\"c\"] = 3\\n    print(\"in - after - alphabets\", alphabets_local)\\n    print(f\"id(alphabets_local):{id(alphabets_local)}\")\\n\\n\\ncomputation(alphabets)\\nprint(\"outside --- alphabets\", alphabets)\\n\\nprint(f\"id(alphabets):{id(alphabets)}\")\\n# print(f\"id(alphabets_local):{id(alphabets_local)}\")  NameError: name \\'alphabets_local\\' is not defined',\n",
       "  'alphabets = {\"a\": 1, \"b\": 2}  # mutable object\\n\\n\\ndef computation(alphabets_local):\\n    alphabets_local = alphabets_local.copy()\\n    \\n    print(\"in - before - alphabets\", alphabets_local)\\n    alphabets_local[\"c\"] = 3\\n    print(\"in - after - alphabets\", alphabets_local)\\n    print(f\"id(alphabets_local):{id(alphabets_local)}\")\\n\\n\\ncomputation(alphabets)\\nprint(\"outside --- alphabets\", alphabets)\\n\\nprint(f\"id(alphabets):{id(alphabets)}\")\\n# print(f\"id(alphabets_local):{id(alphabets_local)}\")  NameError: name \\'alphabets_local\\' is not defined',\n",
       "  '# By Default, \\n#     for mutable object, It is call by reference == changes in function will reflect clear_output\\n#                         call by value  with did .copy()\\npi = 3.1416   # immutable object\\n\\n\\ndef computation():\\n    print(\"in      --- pi\", pi)\\n\\n\\ncomputation()\\nprint(\"outside --- pi\", pi)   # without passing as input, we can use',\n",
       "  'pi = 3.1416   # immutable object\\n\\n\\ndef computation(pi):\\n    print(\"in before     --- pi\", pi, id(pi))\\n    pi = 23432                               \\n    print(\"in after      --- pi\", pi, id(pi))\\n    \\n\\n\\ncomputation(pi)\\nprint(\"outside --     - pi\", pi, id(pi))     #  call by value ',\n",
       "  'pi = 3.1416   # immutable object\\n\\n\\ndef computation():\\n    global pi\\n    print(\"in before     --- pi\", pi, id(pi))\\n    pi = 23432                               \\n    print(\"in after      --- pi\", pi, id(pi))\\n    \\n\\n\\ncomputation()\\nprint(\"outside --     - pi\", pi, id(pi))     #  call by reference ',\n",
       "  '# By Default, \\n#     for mutable object, It is call by reference == changes in function will reflect output\\n#                         call by value  with did .copy()\\n#     for immutable object, It is call by value == changes in function will NOT reflect output\\n#                         call by reference  with global declaration\\n\\n# call by value ---> changes in function will NOT reflect output\\n# call by refrence ---> changes in function will reflect output',\n",
       "  'globals()'],\n",
       " 'Out': {},\n",
       " 'get_ipython': <bound method InteractiveShell.get_ipython of <ipykernel.zmqshell.ZMQInteractiveShell object at 0x74af5c314a10>>,\n",
       " 'exit': <IPython.core.autocall.ZMQExitAutocall at 0x74af5c107350>,\n",
       " 'quit': <IPython.core.autocall.ZMQExitAutocall at 0x74af5c107350>,\n",
       " 'open': <function _io.open(file, mode='r', buffering=-1, encoding=None, errors=None, newline=None, closefd=True, opener=None)>,\n",
       " '_': '',\n",
       " '__': '',\n",
       " '___': '',\n",
       " '__vsc_ipynb_file__': '/workspaces/PythonBatchSept24/07_Functions/a_functional_programming.ipynb',\n",
       " '_i': '# By Default, \\n#     for mutable object, It is call by reference == changes in function will reflect output\\n#                         call by value  with did .copy()\\n#     for immutable object, It is call by value == changes in function will NOT reflect output\\n#                         call by reference  with global declaration\\n\\n# call by value ---> changes in function will NOT reflect output\\n# call by refrence ---> changes in function will reflect output',\n",
       " '_ii': 'pi = 3.1416   # immutable object\\n\\n\\ndef computation():\\n    global pi\\n    print(\"in before     --- pi\", pi, id(pi))\\n    pi = 23432                               \\n    print(\"in after      --- pi\", pi, id(pi))\\n    \\n\\n\\ncomputation()\\nprint(\"outside --     - pi\", pi, id(pi))     #  call by reference ',\n",
       " '_iii': 'pi = 3.1416   # immutable object\\n\\n\\ndef computation(pi):\\n    print(\"in before     --- pi\", pi, id(pi))\\n    pi = 23432                               \\n    print(\"in after      --- pi\", pi, id(pi))\\n    \\n\\n\\ncomputation(pi)\\nprint(\"outside --     - pi\", pi, id(pi))     #  call by value ',\n",
       " '_i1': '# Two functions with same name, but different number of arguments in definition\\n\\ndef myfunc(var1, var2, var3):\\n    \"\"\"\\n    Function to perform arithmetic Multiplication operation\\n    :param var1: Number\\n    :param var2: Number\\n    :param var3: Number\\n    :return: result of addition operation\\n    \"\"\"\\n    return var1 + var2 + var3\\n\\n\\ndef myfunc(num1, num2):\\n    \"\"\"\\n    Function to perform arithmetic Addition operation\\n    :param num1: Number\\n    :param num2: Number\\n    :return: result of addition operation\\n    \"\"\"\\n    return num1 + num2\\n\\n\\nprint(myfunc(2, 3))\\nprint(myfunc(2, 3, 5))',\n",
       " 'myfunc': <function __main__.myfunc(var1, var2, var3=0)>,\n",
       " '_i2': '# Two functions with same name, but different number of arguments in definition\\ndef myfunc(num1, num2):\\n    \"\"\"\\n    Function to perform arithmetic Addition operation\\n    :param num1: Number\\n    :param num2: Number\\n    :return: result of addition operation\\n    \"\"\"\\n    return num1 + num2\\n\\n\\ndef myfunc(var1, var2, var3):\\n    \"\"\"\\n    Function to perform arithmetic Addition operation\\n    :param var1: Number\\n    :param var2: Number\\n    :param var3: Number\\n    :return: result of addition operation\\n    \"\"\"\\n    return var1 + var2 + var3\\n\\n\\nprint(myfunc(2, 3, 5))\\nprint(myfunc(2, 3))',\n",
       " '_i3': '#####   Default Arguments\\ndef myfunc(var1, var2, var3=0):\\n    \"\"\"\\n    Function to perform arithmetic add operation\\n    :param var1: Number\\n    :param var2: Number\\n    :param var3: Number\\n    :return: result of addition operation\\n    \"\"\"\\n    return var1 + var2 + var3\\n\\n\\nprint(myfunc(2, 3, 5))\\nprint(myfunc(2, 3))',\n",
       " '_i4': 'def multiplication(var1, var2, var3=1):\\n    \"\"\"\\n    Function to perform arithmetic Multiplication operation\\n    :param var1: Number\\n    :param var2: Number\\n    :param var3: Number\\n    :return: result of addition operation\\n    \"\"\"\\n    return var1 * var2 * var3\\n\\n\\nprint(multiplication(2, 3, 5))\\nprint(multiplication(2, 3))',\n",
       " 'multiplication': <function __main__.multiplication(var1, var2, var3=1)>,\n",
       " '_i5': 'def greetings(name, msg=\"Birthday\"):\\n    return f\"Hi, {name}! Happy {msg}!!!\"\\nprint(dir(greetings))',\n",
       " 'greetings': <function __main__.greetings(name, msg='Birthday')>,\n",
       " '_i6': '# Function Definition\\ndef recv(maxsize, *, block=True):\\n    print(\"\\\\ntype(maxsize)  \", type(maxsize))\\n    print(\"type(block) \", type(block))\\n\\n    print(\"maxsize   \" + str(maxsize))\\n    print(\"block \" + str(block))\\n    print(\"-\" * 20)\\n\\n\\n# Function Call\\nrecv(8192)  # default case',\n",
       " 'recv': <function __main__.recv(maxsize, *, block=True)>,\n",
       " '_i7': 'recv(8192, False)',\n",
       " '_i8': 'recv(8192, block=False)\\n\\nrecv(maxsize=8192, block=False)',\n",
       " '_i9': 'alphabets = {\"a\": 1, \"b\": 2}  # mutable object\\n\\n\\ndef computation():\\n    print(\"in      --- alphabets\", alphabets)\\n\\n\\ncomputation()\\nprint(\"outside --- alphabets\", alphabets)',\n",
       " 'alphabets': {'a': 1, 'b': 2},\n",
       " 'computation': <function __main__.computation()>,\n",
       " '_i10': 'alphabets = {\"a\": 1, \"b\": 2}  # mutable object\\n\\n\\ndef computation():\\n    print(\"in - before - alphabets\", alphabets)\\n    alphabets[\"c\"] = 3\\n    print(\"in - after  - alphabets\", alphabets)\\n\\n\\ncomputation()\\nprint(\"outside --   - alphabets\", alphabets)',\n",
       " '_i11': 'v',\n",
       " '_i12': 'alphabets = {\"a\": 1, \"b\": 2}  # mutable object\\n\\n\\ndef computation(alphabets_local):\\n    print(\"in - before - alphabets\", alphabets_local)\\n    alphabets_local[\"c\"] = 3\\n    print(\"in - after - alphabets\", alphabets_local)\\n    print(f\"id(alphabets_local):{id(alphabets_local)}\")\\n\\n\\ncomputation(alphabets)\\nprint(\"outside --- alphabets\", alphabets)\\n\\nprint(f\"id(alphabets):{id(alphabets)}\")\\n# print(f\"id(alphabets_local):{id(alphabets_local)}\")  NameError: name \\'alphabets_local\\' is not defined',\n",
       " '_i13': 'alphabets = {\"a\": 1, \"b\": 2}  # mutable object\\n\\n\\ndef computation(alphabets_local):\\n    alphabets_local = alphabets_local.copy()\\n    \\n    print(\"in - before - alphabets\", alphabets_local)\\n    alphabets_local[\"c\"] = 3\\n    print(\"in - after - alphabets\", alphabets_local)\\n    print(f\"id(alphabets_local):{id(alphabets_local)}\")\\n\\n\\ncomputation(alphabets)\\nprint(\"outside --- alphabets\", alphabets)\\n\\nprint(f\"id(alphabets):{id(alphabets)}\")\\n# print(f\"id(alphabets_local):{id(alphabets_local)}\")  NameError: name \\'alphabets_local\\' is not defined',\n",
       " '_i14': '# By Default, \\n#     for mutable object, It is call by reference == changes in function will reflect clear_output\\n#                         call by value  with did .copy()\\npi = 3.1416   # immutable object\\n\\n\\ndef computation():\\n    print(\"in      --- pi\", pi)\\n\\n\\ncomputation()\\nprint(\"outside --- pi\", pi)   # without passing as input, we can use',\n",
       " 'pi': 23432,\n",
       " '_i15': 'pi = 3.1416   # immutable object\\n\\n\\ndef computation(pi):\\n    print(\"in before     --- pi\", pi, id(pi))\\n    pi = 23432                               \\n    print(\"in after      --- pi\", pi, id(pi))\\n    \\n\\n\\ncomputation(pi)\\nprint(\"outside --     - pi\", pi, id(pi))     #  call by value ',\n",
       " '_i16': 'pi = 3.1416   # immutable object\\n\\n\\ndef computation():\\n    global pi\\n    print(\"in before     --- pi\", pi, id(pi))\\n    pi = 23432                               \\n    print(\"in after      --- pi\", pi, id(pi))\\n    \\n\\n\\ncomputation()\\nprint(\"outside --     - pi\", pi, id(pi))     #  call by reference ',\n",
       " '_i17': '# By Default, \\n#     for mutable object, It is call by reference == changes in function will reflect output\\n#                         call by value  with did .copy()\\n#     for immutable object, It is call by value == changes in function will NOT reflect output\\n#                         call by reference  with global declaration\\n\\n# call by value ---> changes in function will NOT reflect output\\n# call by refrence ---> changes in function will reflect output',\n",
       " '_i18': 'globals()'}"
      ]
     },
     "execution_count": 18,
     "metadata": {},
     "output_type": "execute_result"
    }
   ],
   "source": [
    "globals()"
   ]
  }
 ],
 "metadata": {
  "kernelspec": {
   "display_name": "Python 3",
   "language": "python",
   "name": "python3"
  },
  "language_info": {
   "codemirror_mode": {
    "name": "ipython",
    "version": 3
   },
   "file_extension": ".py",
   "mimetype": "text/x-python",
   "name": "python",
   "nbconvert_exporter": "python",
   "pygments_lexer": "ipython3",
   "version": "3.12.1"
  }
 },
 "nbformat": 4,
 "nbformat_minor": 2
}
