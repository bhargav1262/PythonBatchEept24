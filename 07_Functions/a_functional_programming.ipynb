{
 "cells": [
  {
   "cell_type": "markdown",
   "metadata": {},
   "source": [
    "###Advantage of Functional Programming\n",
    "    - Code reusability\n",
    "    - To modularize the problem\n",
    "    - Better maintenance of the code\n",
    "        - Pure functions are easier to reason about\n",
    "        - Testing is easier, and pure functions lend themselves well to techniques like property-based testing\n",
    "        - Debugging is easier"
   ]
  },
  {
   "cell_type": "code",
   "execution_count": 1,
   "metadata": {},
   "outputs": [],
   "source": [
    "# Function Definition\n",
    "def hello():\n",
    "    print(\"Hello world\")\n",
    "    # return None - default"
   ]
  },
  {
   "cell_type": "code",
   "execution_count": 2,
   "metadata": {},
   "outputs": [
    {
     "name": "stdout",
     "output_type": "stream",
     "text": [
      "<function hello at 0x7f30c41a1580>\n"
     ]
    }
   ],
   "source": [
    "print(hello)"
   ]
  },
  {
   "cell_type": "code",
   "execution_count": 3,
   "metadata": {},
   "outputs": [
    {
     "data": {
      "text/plain": [
       "function"
      ]
     },
     "execution_count": 3,
     "metadata": {},
     "output_type": "execute_result"
    }
   ],
   "source": [
    "type(hello)"
   ]
  },
  {
   "cell_type": "markdown",
   "metadata": {},
   "source": [
    "## NOTE: Function are treated as first-class objects in Python."
   ]
  },
  {
   "cell_type": "code",
   "execution_count": 4,
   "metadata": {},
   "outputs": [
    {
     "name": "stdout",
     "output_type": "stream",
     "text": [
      "['__annotations__', '__builtins__', '__call__', '__class__', '__closure__', '__code__', '__defaults__', '__delattr__', '__dict__', '__dir__', '__doc__', '__eq__', '__format__', '__ge__', '__get__', '__getattribute__', '__getstate__', '__globals__', '__gt__', '__hash__', '__init__', '__init_subclass__', '__kwdefaults__', '__le__', '__lt__', '__module__', '__name__', '__ne__', '__new__', '__qualname__', '__reduce__', '__reduce_ex__', '__repr__', '__setattr__', '__sizeof__', '__str__', '__subclasshook__', '__type_params__']\n"
     ]
    }
   ],
   "source": [
    "print(dir(hello))"
   ]
  },
  {
   "cell_type": "code",
   "execution_count": 5,
   "metadata": {},
   "outputs": [
    {
     "data": {
      "text/plain": [
       "'<function hello at 0x7f30c41a1580>'"
      ]
     },
     "execution_count": 5,
     "metadata": {},
     "output_type": "execute_result"
    }
   ],
   "source": [
    "hello.__str__()"
   ]
  },
  {
   "cell_type": "code",
   "execution_count": 6,
   "metadata": {},
   "outputs": [
    {
     "data": {
      "text/plain": [
       "'<function hello at 0x7f30c41a1580>'"
      ]
     },
     "execution_count": 6,
     "metadata": {},
     "output_type": "execute_result"
    }
   ],
   "source": [
    "str(hello)"
   ]
  },
  {
   "cell_type": "code",
   "execution_count": 7,
   "metadata": {},
   "outputs": [
    {
     "data": {
      "text/plain": [
       "'<function hello at 0x7f30c41a1580>'"
      ]
     },
     "execution_count": 7,
     "metadata": {},
     "output_type": "execute_result"
    }
   ],
   "source": [
    "hello.__repr__()"
   ]
  },
  {
   "cell_type": "code",
   "execution_count": 8,
   "metadata": {},
   "outputs": [
    {
     "data": {
      "text/plain": [
       "'<function hello at 0x7f30c41a1580>'"
      ]
     },
     "execution_count": 8,
     "metadata": {},
     "output_type": "execute_result"
    }
   ],
   "source": [
    "repr(hello)"
   ]
  },
  {
   "cell_type": "code",
   "execution_count": 9,
   "metadata": {},
   "outputs": [
    {
     "data": {
      "text/plain": [
       "'hello'"
      ]
     },
     "execution_count": 9,
     "metadata": {},
     "output_type": "execute_result"
    }
   ],
   "source": [
    "hello.__qualname__  # introduced in Python 3.3"
   ]
  },
  {
   "cell_type": "code",
   "execution_count": 10,
   "metadata": {},
   "outputs": [
    {
     "data": {
      "text/plain": [
       "144"
      ]
     },
     "execution_count": 10,
     "metadata": {},
     "output_type": "execute_result"
    }
   ],
   "source": [
    "hello.__sizeof__()"
   ]
  },
  {
   "cell_type": "code",
   "execution_count": 11,
   "metadata": {},
   "outputs": [
    {
     "data": {
      "text/plain": [
       "8740464075096"
      ]
     },
     "execution_count": 11,
     "metadata": {},
     "output_type": "execute_result"
    }
   ],
   "source": [
    "hello.__hash__()"
   ]
  },
  {
   "cell_type": "code",
   "execution_count": 12,
   "metadata": {},
   "outputs": [
    {
     "data": {
      "text/plain": [
       "True"
      ]
     },
     "execution_count": 12,
     "metadata": {},
     "output_type": "execute_result"
    }
   ],
   "source": [
    "callable(hello)"
   ]
  },
  {
   "cell_type": "code",
   "execution_count": 13,
   "metadata": {},
   "outputs": [
    {
     "data": {
      "text/plain": [
       "False"
      ]
     },
     "execution_count": 13,
     "metadata": {},
     "output_type": "execute_result"
    }
   ],
   "source": [
    "num1 = 213123\n",
    "\n",
    "callable(num1)"
   ]
  },
  {
   "cell_type": "code",
   "execution_count": 14,
   "metadata": {},
   "outputs": [
    {
     "name": "stdout",
     "output_type": "stream",
     "text": [
      "Hello world\n"
     ]
    }
   ],
   "source": [
    "hello.__call__()"
   ]
  },
  {
   "cell_type": "code",
   "execution_count": 15,
   "metadata": {},
   "outputs": [
    {
     "ename": "TypeError",
     "evalue": "person_details() missing 2 required positional arguments: 'name' and 'age'",
     "output_type": "error",
     "traceback": [
      "\u001b[0;31m---------------------------------------------------------------------------\u001b[0m",
      "\u001b[0;31mTypeError\u001b[0m                                 Traceback (most recent call last)",
      "Cell \u001b[0;32mIn[15], line 3\u001b[0m\n\u001b[1;32m      1\u001b[0m \u001b[38;5;28;01mdef\u001b[39;00m \u001b[38;5;21mperson_details\u001b[39m(name, age):\n\u001b[1;32m      2\u001b[0m     \u001b[38;5;28;01mreturn\u001b[39;00m \u001b[38;5;124mf\u001b[39m\u001b[38;5;124m\"\u001b[39m\u001b[38;5;132;01m{\u001b[39;00mname\u001b[38;5;132;01m}\u001b[39;00m\u001b[38;5;124m is \u001b[39m\u001b[38;5;132;01m{\u001b[39;00mage\u001b[38;5;132;01m}\u001b[39;00m\u001b[38;5;124m years old\u001b[39m\u001b[38;5;124m\"\u001b[39m\n\u001b[0;32m----> 3\u001b[0m \u001b[43mperson_details\u001b[49m\u001b[43m(\u001b[49m\u001b[43m)\u001b[49m\n",
      "\u001b[0;31mTypeError\u001b[0m: person_details() missing 2 required positional arguments: 'name' and 'age'"
     ]
    }
   ],
   "source": [
    "def person_details(name, age):\n",
    "    return f\"{name} is {age} years old\"\n",
    "person_details()"
   ]
  },
  {
   "cell_type": "code",
   "execution_count": 16,
   "metadata": {},
   "outputs": [
    {
     "name": "stdout",
     "output_type": "stream",
     "text": [
      "result = None <class 'NoneType'>\n"
     ]
    }
   ],
   "source": [
    "# NOTE: Ensure to pass the exact number of arguments in function call, as in function definition.\n",
    "def some_function():\n",
    "    pass\n",
    "    # default return is None type object\n",
    "\n",
    "\n",
    "result = some_function()\n",
    "print(\"result =\", result, type(result))"
   ]
  },
  {
   "cell_type": "code",
   "execution_count": 17,
   "metadata": {},
   "outputs": [
    {
     "name": "stdout",
     "output_type": "stream",
     "text": [
      "result = None <class 'NoneType'>\n"
     ]
    }
   ],
   "source": [
    "def some_function():\n",
    "    return None\n",
    "\n",
    "\n",
    "result = some_function()\n",
    "print(\"result =\", result, type(result))"
   ]
  },
  {
   "cell_type": "code",
   "execution_count": 18,
   "metadata": {},
   "outputs": [
    {
     "name": "stdout",
     "output_type": "stream",
     "text": [
      "result = 12 <class 'int'>\n"
     ]
    }
   ],
   "source": [
    "def some_function():\n",
    "    return 12\n",
    "\n",
    "\n",
    "result = some_function()\n",
    "print(\"result =\", result, type(result))"
   ]
  },
  {
   "cell_type": "code",
   "execution_count": 19,
   "metadata": {},
   "outputs": [
    {
     "name": "stdout",
     "output_type": "stream",
     "text": [
      "result = 12.0 <class 'float'>\n"
     ]
    }
   ],
   "source": [
    "def some_function():\n",
    "    return 12.0\n",
    "\n",
    "\n",
    "result = some_function()\n",
    "print(\"result =\", result, type(result))"
   ]
  },
  {
   "cell_type": "code",
   "execution_count": 20,
   "metadata": {},
   "outputs": [
    {
     "name": "stdout",
     "output_type": "stream",
     "text": [
      "result = {12: 34} <class 'dict'>\n"
     ]
    }
   ],
   "source": [
    "def some_function():\n",
    "    return {12: 34}\n",
    "\n",
    "\n",
    "result = some_function()\n",
    "print(\"result =\", result, type(result))"
   ]
  },
  {
   "cell_type": "code",
   "execution_count": 21,
   "metadata": {},
   "outputs": [
    {
     "name": "stdout",
     "output_type": "stream",
     "text": [
      "result = Gudo's age is 67 <class 'str'>\n"
     ]
    }
   ],
   "source": [
    "def some_function():\n",
    "    return \"%s's age is %d\" % (\"Gudo\", 67)\n",
    "\n",
    "\n",
    "result = some_function()\n",
    "print(\"result =\", result, type(result))"
   ]
  },
  {
   "cell_type": "code",
   "execution_count": 22,
   "metadata": {},
   "outputs": [
    {
     "name": "stdout",
     "output_type": "stream",
     "text": [
      "result = (12.0,) <class 'tuple'>\n"
     ]
    }
   ],
   "source": [
    "def some_function():\n",
    "    return 12.0,  # ,(comma) at the end of statement makes the difference\n",
    "\n",
    "\n",
    "result = some_function()\n",
    "print(\"result =\", result, type(result))"
   ]
  },
  {
   "cell_type": "code",
   "execution_count": 23,
   "metadata": {},
   "outputs": [
    {
     "name": "stdout",
     "output_type": "stream",
     "text": [
      "result = ((12,),) <class 'tuple'>\n"
     ]
    }
   ],
   "source": [
    "def some_function():\n",
    "    return ((12,),)\n",
    "\n",
    "\n",
    "result = some_function()\n",
    "print(\"result =\", result, type(result))"
   ]
  },
  {
   "cell_type": "code",
   "execution_count": 24,
   "metadata": {},
   "outputs": [
    {
     "name": "stdout",
     "output_type": "stream",
     "text": [
      "result = (123, 45) <class 'tuple'>\n"
     ]
    }
   ],
   "source": [
    "def some_other_function():\n",
    "    return 123, 45\n",
    "\n",
    "\n",
    "result = some_other_function()\n",
    "print(\"result =\", result, type(result))"
   ]
  },
  {
   "cell_type": "code",
   "execution_count": 25,
   "metadata": {},
   "outputs": [
    {
     "name": "stdout",
     "output_type": "stream",
     "text": [
      "result1      = 123\n",
      "result2      = 45\n"
     ]
    }
   ],
   "source": [
    "def some_other_function():\n",
    "    return 123, 45\n",
    "\n",
    "\n",
    "# tuple unpacking\n",
    "result1, result2 = some_other_function()\n",
    "print(\"result1      =\", result1)\n",
    "print(\"result2      =\", result2)"
   ]
  },
  {
   "cell_type": "code",
   "execution_count": 26,
   "metadata": {},
   "outputs": [
    {
     "name": "stdout",
     "output_type": "stream",
     "text": [
      "11 22 33\n"
     ]
    }
   ],
   "source": [
    "# list unpacking\n",
    "r1, r2, r3 = [11, 22, 33]\n",
    "print(r1, r2, r3)"
   ]
  },
  {
   "cell_type": "code",
   "execution_count": 27,
   "metadata": {},
   "outputs": [
    {
     "name": "stdout",
     "output_type": "stream",
     "text": [
      "786\n"
     ]
    }
   ],
   "source": [
    "##### Function Overwriting\n",
    "lucky_number = 1111\n",
    "lucky_number = 786\n",
    "print(lucky_number)"
   ]
  },
  {
   "cell_type": "code",
   "execution_count": 28,
   "metadata": {},
   "outputs": [
    {
     "name": "stdout",
     "output_type": "stream",
     "text": [
      "10\n",
      "5\n"
     ]
    }
   ],
   "source": [
    "#########      Default Arguments\n",
    "def myfunc(var1, var2, var3=0):\n",
    "    \"\"\"\n",
    "    Function to perform arithmetic add operation\n",
    "    :param var1: Number\n",
    "    :param var2: Number\n",
    "    :param var3: Number\n",
    "    :return: result of addition operation\n",
    "    \"\"\"\n",
    "    return var1 + var2 + var3\n",
    "\n",
    "\n",
    "print(myfunc(2, 3, 5))\n",
    "print(myfunc(2, 3))"
   ]
  },
  {
   "cell_type": "code",
   "execution_count": 29,
   "metadata": {},
   "outputs": [
    {
     "name": "stdout",
     "output_type": "stream",
     "text": [
      "30\n",
      "6\n"
     ]
    }
   ],
   "source": [
    "def multiplication(var1, var2, var3=1):\n",
    "    \"\"\"\n",
    "    Function to perform arithmetic Multiplication operation\n",
    "    :param var1: Number\n",
    "    :param var2: Number\n",
    "    :param var3: Number\n",
    "    :return: result of addition operation\n",
    "    \"\"\"\n",
    "    return var1 * var2 * var3\n",
    "\n",
    "\n",
    "print(multiplication(2, 3, 5))\n",
    "print(multiplication(2, 3))"
   ]
  },
  {
   "cell_type": "code",
   "execution_count": 30,
   "metadata": {},
   "outputs": [
    {
     "name": "stdout",
     "output_type": "stream",
     "text": [
      "['__annotations__', '__builtins__', '__call__', '__class__', '__closure__', '__code__', '__defaults__', '__delattr__', '__dict__', '__dir__', '__doc__', '__eq__', '__format__', '__ge__', '__get__', '__getattribute__', '__getstate__', '__globals__', '__gt__', '__hash__', '__init__', '__init_subclass__', '__kwdefaults__', '__le__', '__lt__', '__module__', '__name__', '__ne__', '__new__', '__qualname__', '__reduce__', '__reduce_ex__', '__repr__', '__setattr__', '__sizeof__', '__str__', '__subclasshook__', '__type_params__']\n"
     ]
    }
   ],
   "source": [
    "def greetings(name, msg=\"Birthday\"):\n",
    "    return f\"Hi, {name}! Happy {msg}!!!\"\n",
    "print(dir(greetings))"
   ]
  },
  {
   "cell_type": "code",
   "execution_count": 31,
   "metadata": {},
   "outputs": [
    {
     "data": {
      "text/plain": [
       "('Birthday',)"
      ]
     },
     "execution_count": 31,
     "metadata": {},
     "output_type": "execute_result"
    }
   ],
   "source": [
    "greetings.__defaults__"
   ]
  },
  {
   "cell_type": "code",
   "execution_count": 32,
   "metadata": {},
   "outputs": [
    {
     "data": {
      "text/plain": [
       "'Hi, Udhay! Happy Birthday!!!'"
      ]
     },
     "execution_count": 32,
     "metadata": {},
     "output_type": "execute_result"
    }
   ],
   "source": [
    "greetings(\"Udhay\")"
   ]
  },
  {
   "cell_type": "code",
   "execution_count": 33,
   "metadata": {},
   "outputs": [
    {
     "data": {
      "text/plain": [
       "'Hi, Prakash! Happy Wedding Anniversary!!!'"
      ]
     },
     "execution_count": 33,
     "metadata": {},
     "output_type": "execute_result"
    }
   ],
   "source": [
    "greetings(\"Prakash\", \"Wedding Anniversary\")"
   ]
  },
  {
   "cell_type": "code",
   "execution_count": 34,
   "metadata": {},
   "outputs": [
    {
     "name": "stdout",
     "output_type": "stream",
     "text": [
      "0 27 1\n"
     ]
    },
    {
     "data": {
      "text/plain": [
       "'Honorificabilitudinitatibus'"
      ]
     },
     "execution_count": 34,
     "metadata": {},
     "output_type": "execute_result"
    }
   ],
   "source": [
    "# __NOTE:__ default args should be at the end only \n",
    "def string_slicing(input_string, start_index=0, final_index=None, step=1):\n",
    "    if final_index is None:\n",
    "        final_index = len(input_string)\n",
    "\n",
    "    print(start_index, final_index, step)\n",
    "    return input_string[start_index:final_index:step]\n",
    "\n",
    "\n",
    "string_slicing(\"Honorificabilitudinitatibus\")"
   ]
  },
  {
   "cell_type": "code",
   "execution_count": 35,
   "metadata": {},
   "outputs": [
    {
     "name": "stdout",
     "output_type": "stream",
     "text": [
      "0 27 1\n"
     ]
    },
    {
     "data": {
      "text/plain": [
       "'Honorificabilitudinitatibus'"
      ]
     },
     "execution_count": 35,
     "metadata": {},
     "output_type": "execute_result"
    }
   ],
   "source": [
    "def string_slicing(input_string, start_index=0, final_index=None, step=1):\n",
    "    final_index = final_index or len(input_string)\n",
    "\n",
    "    print(start_index, final_index, step)\n",
    "    return input_string[start_index:final_index:step]\n",
    "\n",
    "\n",
    "string_slicing(\"Honorificabilitudinitatibus\")"
   ]
  },
  {
   "cell_type": "code",
   "execution_count": 36,
   "metadata": {},
   "outputs": [
    {
     "name": "stdout",
     "output_type": "stream",
     "text": [
      "3 19 2\n"
     ]
    },
    {
     "data": {
      "text/plain": [
       "'oiiaiiui'"
      ]
     },
     "execution_count": 36,
     "metadata": {},
     "output_type": "execute_result"
    }
   ],
   "source": [
    "string_slicing(\"Honorificabilitudinitatibus\", 3, 19, 2)"
   ]
  },
  {
   "cell_type": "code",
   "execution_count": 37,
   "metadata": {},
   "outputs": [
    {
     "data": {
      "text/plain": [
       "(0, None, 1)"
      ]
     },
     "execution_count": 37,
     "metadata": {},
     "output_type": "execute_result"
    }
   ],
   "source": [
    "string_slicing.__defaults__"
   ]
  },
  {
   "cell_type": "code",
   "execution_count": 38,
   "metadata": {},
   "outputs": [
    {
     "data": {
      "text/plain": [
       "([],)"
      ]
     },
     "execution_count": 38,
     "metadata": {},
     "output_type": "execute_result"
    }
   ],
   "source": [
    "########  Problem with mutable default arguments\n",
    "def extend_list(val, mylist=[]):\n",
    "    print(f\"id(mylist) = {id(mylist)} mylist={mylist}  \")\n",
    "    mylist.append(val)\n",
    "    return mylist\n",
    "extend_list.__defaults__"
   ]
  },
  {
   "cell_type": "code",
   "execution_count": 39,
   "metadata": {},
   "outputs": [
    {
     "name": "stdout",
     "output_type": "stream",
     "text": [
      "id(mylist) = 139847174607424 mylist=[]  \n"
     ]
    },
    {
     "data": {
      "text/plain": [
       "[10]"
      ]
     },
     "execution_count": 39,
     "metadata": {},
     "output_type": "execute_result"
    }
   ],
   "source": [
    "list1 = extend_list(10)\n",
    "list1"
   ]
  },
  {
   "cell_type": "code",
   "execution_count": 40,
   "metadata": {},
   "outputs": [
    {
     "name": "stdout",
     "output_type": "stream",
     "text": [
      "id(mylist) = 139847179308736 mylist=[]  \n"
     ]
    },
    {
     "data": {
      "text/plain": [
       "[123]"
      ]
     },
     "execution_count": 40,
     "metadata": {},
     "output_type": "execute_result"
    }
   ],
   "source": [
    "list2 = extend_list(123, [])\n",
    "list2"
   ]
  },
  {
   "cell_type": "code",
   "execution_count": 41,
   "metadata": {},
   "outputs": [
    {
     "name": "stdout",
     "output_type": "stream",
     "text": [
      "id(mylist) = 139847174607424 mylist=[10]  \n"
     ]
    },
    {
     "data": {
      "text/plain": [
       "[10, 'a']"
      ]
     },
     "execution_count": 41,
     "metadata": {},
     "output_type": "execute_result"
    }
   ],
   "source": [
    "list3 = extend_list(\"a\")\n",
    "list3"
   ]
  },
  {
   "cell_type": "code",
   "execution_count": 42,
   "metadata": {},
   "outputs": [
    {
     "data": {
      "text/plain": [
       "(139847174607424, 139847179308736, 139847174607424)"
      ]
     },
     "execution_count": 42,
     "metadata": {},
     "output_type": "execute_result"
    }
   ],
   "source": [
    "id(list1), id(list2), id(list3)"
   ]
  },
  {
   "cell_type": "code",
   "execution_count": 43,
   "metadata": {},
   "outputs": [
    {
     "name": "stdout",
     "output_type": "stream",
     "text": [
      "id(mylist) = 139847174541824 mylist=[]  \n",
      "[10]\n",
      "id(mylist) = 139847174549696 mylist=[]  \n",
      "[123]\n",
      "id(mylist) = 139847174539328 mylist=[]  \n",
      "['a']\n"
     ]
    }
   ],
   "source": [
    "# NOTE: Best practice is to use a sentinel value to denote an empty list or dictionary or set.\n",
    "# Best practice\n",
    "\n",
    "\n",
    "# def extend_list(val, mylist= []):\n",
    "#     print(f'id(mylist) = {id(mylist)} mylist={mylist}  ')\n",
    "#     mylist.append(val)\n",
    "#     return mylist\n",
    "\n",
    "\n",
    "def extend_list(val, mylist=None):\n",
    "    if mylist is None:\n",
    "        mylist = []\n",
    "    print(f\"id(mylist) = {id(mylist)} mylist={mylist}  \")\n",
    "    mylist.append(val)\n",
    "    return mylist\n",
    "list1 = extend_list(10)\n",
    "print(list1)\n",
    "\n",
    "list2 = extend_list(123, [])\n",
    "print(list2)\n",
    "\n",
    "list3 = extend_list(\"a\")\n",
    "print(list3)"
   ]
  },
  {
   "cell_type": "code",
   "execution_count": 44,
   "metadata": {},
   "outputs": [
    {
     "data": {
      "text/plain": [
       "(139847174541824, 139847174549696, 139847174539328)"
      ]
     },
     "execution_count": 44,
     "metadata": {},
     "output_type": "execute_result"
    }
   ],
   "source": [
    "id(list1), id(list2), id(list3)"
   ]
  },
  {
   "cell_type": "code",
   "execution_count": 45,
   "metadata": {},
   "outputs": [
    {
     "ename": "AttributeError",
     "evalue": "'function' object has no attribute '__defaults_'",
     "output_type": "error",
     "traceback": [
      "\u001b[0;31m---------------------------------------------------------------------------\u001b[0m",
      "\u001b[0;31mAttributeError\u001b[0m                            Traceback (most recent call last)",
      "Cell \u001b[0;32mIn[45], line 1\u001b[0m\n\u001b[0;32m----> 1\u001b[0m \u001b[43mextend_list\u001b[49m\u001b[38;5;241;43m.\u001b[39;49m\u001b[43m__defaults_\u001b[49m\n",
      "\u001b[0;31mAttributeError\u001b[0m: 'function' object has no attribute '__defaults_'"
     ]
    }
   ],
   "source": [
    "extend_list.__defaults_"
   ]
  },
  {
   "cell_type": "code",
   "execution_count": 46,
   "metadata": {},
   "outputs": [
    {
     "data": {
      "text/plain": [
       "(None,)"
      ]
     },
     "execution_count": 46,
     "metadata": {},
     "output_type": "execute_result"
    }
   ],
   "source": [
    "extend_list.__defaults__"
   ]
  },
  {
   "cell_type": "code",
   "execution_count": null,
   "metadata": {},
   "outputs": [],
   "source": []
  }
 ],
 "metadata": {
  "kernelspec": {
   "display_name": "Python 3",
   "language": "python",
   "name": "python3"
  },
  "language_info": {
   "codemirror_mode": {
    "name": "ipython",
    "version": 3
   },
   "file_extension": ".py",
   "mimetype": "text/x-python",
   "name": "python",
   "nbconvert_exporter": "python",
   "pygments_lexer": "ipython3",
   "version": "3.12.1"
  }
 },
 "nbformat": 4,
 "nbformat_minor": 2
}
